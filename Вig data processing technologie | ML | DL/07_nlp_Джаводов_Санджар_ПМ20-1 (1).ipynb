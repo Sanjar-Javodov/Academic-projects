{
 "cells": [
  {
   "cell_type": "markdown",
   "metadata": {},
   "source": [
    "# Введение в обработку текста на естественном языке"
   ]
  },
  {
   "cell_type": "markdown",
   "metadata": {},
   "source": [
    "__Автор задач: Блохин Н.В. (NVBlokhin@fa.ru)__\n",
    "\n",
    "Материалы:\n",
    "* Макрушин С.В. Лекция \"Введение в обработку текста на естественном языке\"\n",
    "* https://www.nltk.org/api/nltk.metrics.distance.html\n",
    "* https://pymorphy2.readthedocs.io/en/stable/user/guide.html\n",
    "* https://realpython.com/nltk-nlp-python/\n",
    "* https://scikit-learn.org/stable/modules/feature_extraction.html"
   ]
  },
  {
   "cell_type": "markdown",
   "metadata": {},
   "source": [
    "## Задачи для совместного разбора"
   ]
  },
  {
   "cell_type": "code",
   "execution_count": null,
   "metadata": {},
   "outputs": [],
   "source": [
    "!pip install pymorphy2"
   ]
  },
  {
   "cell_type": "code",
   "execution_count": null,
   "metadata": {},
   "outputs": [],
   "source": [
    "import nltk\n",
    "nltk.download('punkt')"
   ]
  },
  {
   "cell_type": "markdown",
   "metadata": {},
   "source": [
    "1. Считайте слова из файла `litw-win.txt` и запишите их в список `words`. При помощи расстояния Левенштейна иправьте опечатку в слове \"велечайшим\"."
   ]
  },
  {
   "cell_type": "code",
   "execution_count": null,
   "metadata": {},
   "outputs": [],
   "source": [
    "from nltk import edit_distance"
   ]
  },
  {
   "cell_type": "markdown",
   "metadata": {},
   "source": [
    "2. Разбейте текст из формулировки второго задания на слова. Проведите стемминг и лемматизацию слов."
   ]
  },
  {
   "cell_type": "code",
   "execution_count": null,
   "metadata": {},
   "outputs": [],
   "source": [
    "from nltk.stem import SnowballStemmer\n",
    "from nltk import word_tokenize\n",
    "import pymorphy2"
   ]
  },
  {
   "cell_type": "code",
   "execution_count": null,
   "metadata": {},
   "outputs": [],
   "source": [
    "text = '''Разбейте текст из формулировки второго задания на слова. Проведите стемминг и лемматизацию слов.'''"
   ]
  },
  {
   "cell_type": "markdown",
   "metadata": {},
   "source": [
    "3. Преобразуйте предложения из формулировки задания 2 в векторы при помощи `CountVectorizer`. Выведите на экран словарь обученного токенизатора."
   ]
  },
  {
   "cell_type": "code",
   "execution_count": null,
   "metadata": {},
   "outputs": [],
   "source": [
    "from sklearn.feature_extraction.text import CountVectorizer\n",
    "from nltk import sent_tokenize"
   ]
  },
  {
   "cell_type": "code",
   "execution_count": null,
   "metadata": {},
   "outputs": [],
   "source": [
    "text = '''Разбейте текст из формулировки второго задания на слова. Проведите стемминг и лемматизацию слов.'''"
   ]
  },
  {
   "cell_type": "markdown",
   "metadata": {},
   "source": [
    "## Лабораторная работа 7"
   ]
  },
  {
   "cell_type": "markdown",
   "metadata": {},
   "source": [
    "1\\. Загрузите данные из файла `ru_recipes_sample.csv` в виде `pd.DataFrame` `recipes` Используя регулярные выражения, удалите из описаний (столбец `description`) все символы, кроме русских букв, цифр и пробелов. Приведите все слова в описании к нижнему регистру. Сохраните полученный результат в столбец `description`."
   ]
  },
  {
   "cell_type": "code",
   "execution_count": 567,
   "metadata": {},
   "outputs": [
    {
     "name": "stdout",
     "output_type": "stream",
     "text": [
      "Collecting pymorphy2Note: you may need to restart the kernel to use updated packages.\n",
      "\n",
      "  Downloading pymorphy2-0.9.1-py3-none-any.whl (55 kB)\n",
      "Collecting pymorphy2-dicts-ru<3.0,>=2.4\n",
      "  Downloading pymorphy2_dicts_ru-2.4.417127.4579844-py2.py3-none-any.whl (8.2 MB)\n",
      "Collecting dawg-python>=0.7.1\n",
      "  Downloading DAWG_Python-0.7.2-py2.py3-none-any.whl (11 kB)\n",
      "Collecting docopt>=0.6\n",
      "  Downloading docopt-0.6.2.tar.gz (25 kB)\n",
      "Building wheels for collected packages: docopt\n",
      "  Building wheel for docopt (setup.py): started\n",
      "  Building wheel for docopt (setup.py): finished with status 'done'\n",
      "  Created wheel for docopt: filename=docopt-0.6.2-py2.py3-none-any.whl size=13723 sha256=c67d055b25797eaef5ad18788390df05e9ad51a7a587faf4ce12fbe368e281d2\n",
      "  Stored in directory: c:\\users\\user\\appdata\\local\\pip\\cache\\wheels\\70\\4a\\46\\1309fc853b8d395e60bafaf1b6df7845bdd82c95fd59dd8d2b\n",
      "Successfully built docopt\n",
      "Installing collected packages: pymorphy2-dicts-ru, docopt, dawg-python, pymorphy2\n",
      "Successfully installed dawg-python-0.7.2 docopt-0.6.2 pymorphy2-0.9.1 pymorphy2-dicts-ru-2.4.417127.4579844\n"
     ]
    }
   ],
   "source": [
    "%pip install pymorphy2"
   ]
  },
  {
   "cell_type": "code",
   "execution_count": 773,
   "metadata": {},
   "outputs": [],
   "source": [
    "import pandas as pd\n",
    "import numpy as np\n",
    "import re\n",
    "from nltk import tokenize\n",
    "from nltk import word_tokenize\n",
    "from nltk.metrics.distance import edit_distance\n",
    "from nltk.stem import SnowballStemmer\n",
    "import pymorphy2\n",
    "from nltk.corpus import stopwords\n",
    "from sklearn.feature_extraction.text import TfidfVectorizer\n",
    "from itertools import product\n",
    "from scipy.spatial.distance import cosine"
   ]
  },
  {
   "cell_type": "code",
   "execution_count": 634,
   "metadata": {},
   "outputs": [],
   "source": [
    "recipes = pd.read_csv('ru_recipes_sample.csv')"
   ]
  },
  {
   "cell_type": "code",
   "execution_count": 635,
   "metadata": {},
   "outputs": [],
   "source": [
    "def reg_expression(row):\n",
    "    return \"\".join(re.findall(r\"[а-яА-Я\\s\\d]\", row)).lower()"
   ]
  },
  {
   "cell_type": "code",
   "execution_count": 636,
   "metadata": {},
   "outputs": [],
   "source": [
    "recipes['description'] = recipes['description'].apply(reg_expression)"
   ]
  },
  {
   "cell_type": "code",
   "execution_count": 637,
   "metadata": {},
   "outputs": [
    {
     "data": {
      "text/html": [
       "<div>\n",
       "<style scoped>\n",
       "    .dataframe tbody tr th:only-of-type {\n",
       "        vertical-align: middle;\n",
       "    }\n",
       "\n",
       "    .dataframe tbody tr th {\n",
       "        vertical-align: top;\n",
       "    }\n",
       "\n",
       "    .dataframe thead th {\n",
       "        text-align: right;\n",
       "    }\n",
       "</style>\n",
       "<table border=\"1\" class=\"dataframe\">\n",
       "  <thead>\n",
       "    <tr style=\"text-align: right;\">\n",
       "      <th></th>\n",
       "      <th>url</th>\n",
       "      <th>name</th>\n",
       "      <th>ingredients</th>\n",
       "      <th>description</th>\n",
       "    </tr>\n",
       "  </thead>\n",
       "  <tbody>\n",
       "    <tr>\n",
       "      <th>0</th>\n",
       "      <td>https://www.povarenok.ru/recipes/show/164365/</td>\n",
       "      <td>Густой молочно-клубничный коктейль</td>\n",
       "      <td>{'Молоко': '250 мл', 'Клубника': '200 г', 'Сах...</td>\n",
       "      <td>этот коктейль готовлю из замороженной клубники...</td>\n",
       "    </tr>\n",
       "    <tr>\n",
       "      <th>1</th>\n",
       "      <td>https://www.povarenok.ru/recipes/show/1306/</td>\n",
       "      <td>Рулетики</td>\n",
       "      <td>{'Сыр твердый': None, 'Чеснок': None, 'Яйцо ку...</td>\n",
       "      <td>быстро и вкусно</td>\n",
       "    </tr>\n",
       "    <tr>\n",
       "      <th>2</th>\n",
       "      <td>https://www.povarenok.ru/recipes/show/10625/</td>\n",
       "      <td>Салат \"Баклажанчик\"</td>\n",
       "      <td>{'Баклажан': '3 шт', 'Лук репчатый': '2 шт', '...</td>\n",
       "      <td>сытный овощной салатик пальчики оближете</td>\n",
       "    </tr>\n",
       "    <tr>\n",
       "      <th>3</th>\n",
       "      <td>https://www.povarenok.ru/recipes/show/167337/</td>\n",
       "      <td>Куриные котлеты с картофельным пюре в духовке</td>\n",
       "      <td>{'Фарш куриный': '800 г', 'Пюре картофельное':...</td>\n",
       "      <td>картофельное пюре и куриные котлеты  вкусная к...</td>\n",
       "    </tr>\n",
       "    <tr>\n",
       "      <th>4</th>\n",
       "      <td>https://www.povarenok.ru/recipes/show/91919/</td>\n",
       "      <td>Рецепт вишневой наливки</td>\n",
       "      <td>{'Вишня': '1 кг', 'Водка': '1 л', 'Сахар': '30...</td>\n",
       "      <td>вишневая наливка имеет яркий вишневый вкус кот...</td>\n",
       "    </tr>\n",
       "    <tr>\n",
       "      <th>...</th>\n",
       "      <td>...</td>\n",
       "      <td>...</td>\n",
       "      <td>...</td>\n",
       "      <td>...</td>\n",
       "    </tr>\n",
       "    <tr>\n",
       "      <th>3462</th>\n",
       "      <td>https://www.povarenok.ru/recipes/show/54574/</td>\n",
       "      <td>Мшош</td>\n",
       "      <td>{'Чечевица': '1 стак.', 'Лук репчатый': '2 шт'...</td>\n",
       "      <td>для тех кто любит чечевицу вам сюда очень вкус...</td>\n",
       "    </tr>\n",
       "    <tr>\n",
       "      <th>3463</th>\n",
       "      <td>https://www.povarenok.ru/recipes/show/113494/</td>\n",
       "      <td>Мясные треугольники с баклажаном</td>\n",
       "      <td>{'Фарш мясной': '400 г', 'Баклажан': '1 шт', '...</td>\n",
       "      <td>баклажановые фантазии продолжаются предлагаю в...</td>\n",
       "    </tr>\n",
       "    <tr>\n",
       "      <th>3464</th>\n",
       "      <td>https://www.povarenok.ru/recipes/show/83228/</td>\n",
       "      <td>\"Болоньез\" по-новому</td>\n",
       "      <td>{'Фарш мясной': '400 г', 'Томаты в собственном...</td>\n",
       "      <td>мое любимое блюдо лазанья но кушать только фар...</td>\n",
       "    </tr>\n",
       "    <tr>\n",
       "      <th>3465</th>\n",
       "      <td>https://www.povarenok.ru/recipes/show/172238/</td>\n",
       "      <td>Варенье из одуванчиков с апельсинами</td>\n",
       "      <td>{'Цветки': '400 г', 'Сахар': '1300 г', 'Апельс...</td>\n",
       "      <td>прошлым летом варила варенье из одуванчиков по...</td>\n",
       "    </tr>\n",
       "    <tr>\n",
       "      <th>3466</th>\n",
       "      <td>https://www.povarenok.ru/recipes/show/52794/</td>\n",
       "      <td>Три корочки хлеба под соусом болоньез для Пино...</td>\n",
       "      <td>{'Хлеб': '3 шт', 'Фарш мясной': '200-250 г', '...</td>\n",
       "      <td>и три корочки хлеба  сделал заказ буратино в ...</td>\n",
       "    </tr>\n",
       "  </tbody>\n",
       "</table>\n",
       "<p>3467 rows × 4 columns</p>\n",
       "</div>"
      ],
      "text/plain": [
       "                                                url  \\\n",
       "0     https://www.povarenok.ru/recipes/show/164365/   \n",
       "1       https://www.povarenok.ru/recipes/show/1306/   \n",
       "2      https://www.povarenok.ru/recipes/show/10625/   \n",
       "3     https://www.povarenok.ru/recipes/show/167337/   \n",
       "4      https://www.povarenok.ru/recipes/show/91919/   \n",
       "...                                             ...   \n",
       "3462   https://www.povarenok.ru/recipes/show/54574/   \n",
       "3463  https://www.povarenok.ru/recipes/show/113494/   \n",
       "3464   https://www.povarenok.ru/recipes/show/83228/   \n",
       "3465  https://www.povarenok.ru/recipes/show/172238/   \n",
       "3466   https://www.povarenok.ru/recipes/show/52794/   \n",
       "\n",
       "                                                   name  \\\n",
       "0                    Густой молочно-клубничный коктейль   \n",
       "1                                              Рулетики   \n",
       "2                                   Салат \"Баклажанчик\"   \n",
       "3         Куриные котлеты с картофельным пюре в духовке   \n",
       "4                               Рецепт вишневой наливки   \n",
       "...                                                 ...   \n",
       "3462                                               Мшош   \n",
       "3463                   Мясные треугольники с баклажаном   \n",
       "3464                               \"Болоньез\" по-новому   \n",
       "3465               Варенье из одуванчиков с апельсинами   \n",
       "3466  Три корочки хлеба под соусом болоньез для Пино...   \n",
       "\n",
       "                                            ingredients  \\\n",
       "0     {'Молоко': '250 мл', 'Клубника': '200 г', 'Сах...   \n",
       "1     {'Сыр твердый': None, 'Чеснок': None, 'Яйцо ку...   \n",
       "2     {'Баклажан': '3 шт', 'Лук репчатый': '2 шт', '...   \n",
       "3     {'Фарш куриный': '800 г', 'Пюре картофельное':...   \n",
       "4     {'Вишня': '1 кг', 'Водка': '1 л', 'Сахар': '30...   \n",
       "...                                                 ...   \n",
       "3462  {'Чечевица': '1 стак.', 'Лук репчатый': '2 шт'...   \n",
       "3463  {'Фарш мясной': '400 г', 'Баклажан': '1 шт', '...   \n",
       "3464  {'Фарш мясной': '400 г', 'Томаты в собственном...   \n",
       "3465  {'Цветки': '400 г', 'Сахар': '1300 г', 'Апельс...   \n",
       "3466  {'Хлеб': '3 шт', 'Фарш мясной': '200-250 г', '...   \n",
       "\n",
       "                                            description  \n",
       "0     этот коктейль готовлю из замороженной клубники...  \n",
       "1                                       быстро и вкусно  \n",
       "2              сытный овощной салатик пальчики оближете  \n",
       "3     картофельное пюре и куриные котлеты  вкусная к...  \n",
       "4     вишневая наливка имеет яркий вишневый вкус кот...  \n",
       "...                                                 ...  \n",
       "3462  для тех кто любит чечевицу вам сюда очень вкус...  \n",
       "3463  баклажановые фантазии продолжаются предлагаю в...  \n",
       "3464  мое любимое блюдо лазанья но кушать только фар...  \n",
       "3465  прошлым летом варила варенье из одуванчиков по...  \n",
       "3466   и три корочки хлеба  сделал заказ буратино в ...  \n",
       "\n",
       "[3467 rows x 4 columns]"
      ]
     },
     "execution_count": 637,
     "metadata": {},
     "output_type": "execute_result"
    }
   ],
   "source": [
    "recipes"
   ]
  },
  {
   "cell_type": "markdown",
   "metadata": {},
   "source": [
    "### Расстояние редактирования"
   ]
  },
  {
   "cell_type": "markdown",
   "metadata": {},
   "source": [
    "2\\. Получите набор уникальных слов `words`, содержащихся в текстах описаний рецептов (воспользуйтесь `word_tokenize` из `nltk`). Сгенерируйте 5 пар случайно выбранных слов и посчитайте между ними расстояние Левенштейна. Выведите на экран результат в следующем виде:\n",
    "\n",
    "```\n",
    "d(word1, word2) = x\n",
    "```"
   ]
  },
  {
   "cell_type": "code",
   "execution_count": 638,
   "metadata": {},
   "outputs": [],
   "source": [
    "words = pd.Series(sum(map(word_tokenize, recipes['description']),[])).unique()"
   ]
  },
  {
   "cell_type": "code",
   "execution_count": 639,
   "metadata": {},
   "outputs": [
    {
     "name": "stdout",
     "output_type": "stream",
     "text": [
      "d(хром,натощак)=6\n",
      "d(треугольничков,долгого)=11\n",
      "d(торта,вычитала)=6\n",
      "d(тщины,гранола)=6\n",
      "d(мужапродуктов,переоценивают)=13\n"
     ]
    }
   ],
   "source": [
    "for i in range(5):\n",
    "    random_words = np.random.choice(words, 2)\n",
    "    print(f'd({random_words[0]},{random_words[1]})={edit_distance(random_words[0],random_words[1])}')"
   ]
  },
  {
   "cell_type": "markdown",
   "metadata": {},
   "source": [
    "3\\. Напишите функцию, которая принимает на вход 2 текстовые строки `s1` и `s2` и при помощи расстояния Левенштейна определяет, является ли строка `s2` плагиатом `s1`. Функция должна реализовывать следующую логику: для каждого слова `w1` из `s1` проверяет, есть в `s2` хотя бы одно слово `w2`, такое, что расстояние Левенштейна между `w1` и `w2` меньше 2, и считает количество таких слов в `s1` $P$. \n",
    "\n",
    "$$ P = \\#\\{w_1 \\in s_1\\ | \\exists w_2 \\in s_2 : d(w_1, w_2) < tol\\}$$\n",
    "\n",
    "$$ L = max(|s1|, |s2|) $$\n",
    "\n",
    "Здесь $|\\cdot|$ - количество слов в строке, $\\#A$ - число элементов в множестве $A$, $w \\in s$ означает, что слово $w$ содержится в тексте $s$.\n",
    "\n",
    "Если отношение $P / L$ больше 0.8, то функция должна вернуть True; иначе False.\n",
    "\n",
    "Продемонстрируйте работу вашей функции на примере описаний двух рецептов с ID 135488 и 851934 (ID рецепта - это число, стоящее в конце url рецепта). Выведите на экран описания этих рецептов и результат работы функции."
   ]
  },
  {
   "cell_type": "code",
   "execution_count": 681,
   "metadata": {},
   "outputs": [],
   "source": [
    "def is_plagiarism(s1: str, s2: str) -> bool:\n",
    "    word_in_s1 = word_tokenize(s1)\n",
    "    word_in_s2 = word_tokenize(s2)\n",
    "    P = 0\n",
    "    L = max(len(word_in_s1),len(word_in_s2))\n",
    "    for w1 in word_in_s1:\n",
    "        for w2 in word_in_s2:\n",
    "            if edit_distance(w1, w2) < 2:\n",
    "                P+=1\n",
    "                break\n",
    "                \n",
    "    return True if P/L > 0.8 else False"
   ]
  },
  {
   "cell_type": "code",
   "execution_count": 671,
   "metadata": {},
   "outputs": [],
   "source": [
    "def get_id(row):\n",
    "    if re.search(r'135488|851934',row) is not None:\n",
    "        return row"
   ]
  },
  {
   "cell_type": "code",
   "execution_count": 672,
   "metadata": {},
   "outputs": [],
   "source": [
    "result = list(filter(lambda x: x[1] is not None, \n",
    "                     zip(range(len(recipes['url'].apply(get_id))), recipes['url'].apply(get_id))))"
   ]
  },
  {
   "cell_type": "code",
   "execution_count": 673,
   "metadata": {},
   "outputs": [],
   "source": [
    "s1 = recipes.loc[result[0][0]][3]\n",
    "s2 = recipes.loc[result[1][0]][3]"
   ]
  },
  {
   "cell_type": "code",
   "execution_count": 682,
   "metadata": {},
   "outputs": [
    {
     "data": {
      "text/plain": [
       "True"
      ]
     },
     "execution_count": 682,
     "metadata": {},
     "output_type": "execute_result"
    }
   ],
   "source": [
    "is_plagiarism(s1, s2)"
   ]
  },
  {
   "cell_type": "markdown",
   "metadata": {},
   "source": [
    "### Стемминг, лемматизация"
   ]
  },
  {
   "cell_type": "markdown",
   "metadata": {},
   "source": [
    "4\\. На основе набора слов из задания 2 создайте `pd.DataFrame` со столбцами `word`, `stemmed_word` и `normalized_word`. В столбец `stemmed_word` поместите версию слова после проведения процедуры стемминга; в столбец `normalized_word` поместите версию слова после проведения процедуры лемматизации. Столбец `word` укажите в качестве индекса. \n",
    "\n",
    "Для стемминга можно воспользоваться `SnowballStemmer` из `nltk`, для лемматизации слов - пакетом `pymorphy2`. Сравните результаты стемминга и лемматизации. Поясните на примере одной из строк получившегося фрейма (в виде текстового комментария), в чем разница между двумя этими подходами. "
   ]
  },
  {
   "cell_type": "code",
   "execution_count": 649,
   "metadata": {},
   "outputs": [],
   "source": [
    "snb_stemmer_ru = SnowballStemmer('russian')\n",
    "morph = pymorphy2.MorphAnalyzer()"
   ]
  },
  {
   "cell_type": "code",
   "execution_count": 650,
   "metadata": {},
   "outputs": [],
   "source": [
    "df_1= pd.DataFrame(columns=['word', 'stemmed_word', 'normalized_word'])\n",
    "df_1['stemmed_word'] = [snb_stemmer_ru.stem(t) for t in words]"
   ]
  },
  {
   "cell_type": "code",
   "execution_count": 651,
   "metadata": {},
   "outputs": [],
   "source": [
    "pt = [morph.parse(t) for t in words]\n",
    "df_1['normalized_word'] = [w[0].normalized.word for w in pt]"
   ]
  },
  {
   "cell_type": "code",
   "execution_count": 652,
   "metadata": {},
   "outputs": [],
   "source": [
    "df_1['word'] = words\n",
    "df_1 = df_1.set_index('word')"
   ]
  },
  {
   "cell_type": "code",
   "execution_count": 653,
   "metadata": {},
   "outputs": [
    {
     "data": {
      "text/html": [
       "<div>\n",
       "<style scoped>\n",
       "    .dataframe tbody tr th:only-of-type {\n",
       "        vertical-align: middle;\n",
       "    }\n",
       "\n",
       "    .dataframe tbody tr th {\n",
       "        vertical-align: top;\n",
       "    }\n",
       "\n",
       "    .dataframe thead th {\n",
       "        text-align: right;\n",
       "    }\n",
       "</style>\n",
       "<table border=\"1\" class=\"dataframe\">\n",
       "  <thead>\n",
       "    <tr style=\"text-align: right;\">\n",
       "      <th></th>\n",
       "      <th>stemmed_word</th>\n",
       "      <th>normalized_word</th>\n",
       "    </tr>\n",
       "    <tr>\n",
       "      <th>word</th>\n",
       "      <th></th>\n",
       "      <th></th>\n",
       "    </tr>\n",
       "  </thead>\n",
       "  <tbody>\n",
       "    <tr>\n",
       "      <th>этот</th>\n",
       "      <td>этот</td>\n",
       "      <td>этот</td>\n",
       "    </tr>\n",
       "    <tr>\n",
       "      <th>коктейль</th>\n",
       "      <td>коктейл</td>\n",
       "      <td>коктейль</td>\n",
       "    </tr>\n",
       "    <tr>\n",
       "      <th>готовлю</th>\n",
       "      <td>готовл</td>\n",
       "      <td>готовить</td>\n",
       "    </tr>\n",
       "    <tr>\n",
       "      <th>из</th>\n",
       "      <td>из</td>\n",
       "      <td>из</td>\n",
       "    </tr>\n",
       "    <tr>\n",
       "      <th>замороженной</th>\n",
       "      <td>заморожен</td>\n",
       "      <td>заморозить</td>\n",
       "    </tr>\n",
       "    <tr>\n",
       "      <th>...</th>\n",
       "      <td>...</td>\n",
       "      <td>...</td>\n",
       "    </tr>\n",
       "    <tr>\n",
       "      <th>сбывается</th>\n",
       "      <td>сбыва</td>\n",
       "      <td>сбываться</td>\n",
       "    </tr>\n",
       "    <tr>\n",
       "      <th>подружим</th>\n",
       "      <td>подруж</td>\n",
       "      <td>подружить</td>\n",
       "    </tr>\n",
       "    <tr>\n",
       "      <th>одинаковых</th>\n",
       "      <td>одинаков</td>\n",
       "      <td>одинаковый</td>\n",
       "    </tr>\n",
       "    <tr>\n",
       "      <th>задорных</th>\n",
       "      <td>задорн</td>\n",
       "      <td>задорный</td>\n",
       "    </tr>\n",
       "    <tr>\n",
       "      <th>мальчишек</th>\n",
       "      <td>мальчишек</td>\n",
       "      <td>мальчишка</td>\n",
       "    </tr>\n",
       "  </tbody>\n",
       "</table>\n",
       "<p>16402 rows × 2 columns</p>\n",
       "</div>"
      ],
      "text/plain": [
       "             stemmed_word normalized_word\n",
       "word                                     \n",
       "этот                 этот            этот\n",
       "коктейль          коктейл        коктейль\n",
       "готовлю            готовл        готовить\n",
       "из                     из              из\n",
       "замороженной    заморожен      заморозить\n",
       "...                   ...             ...\n",
       "сбывается           сбыва       сбываться\n",
       "подружим           подруж       подружить\n",
       "одинаковых       одинаков      одинаковый\n",
       "задорных           задорн        задорный\n",
       "мальчишек       мальчишек       мальчишка\n",
       "\n",
       "[16402 rows x 2 columns]"
      ]
     },
     "execution_count": 653,
     "metadata": {},
     "output_type": "execute_result"
    }
   ],
   "source": [
    "df_1"
   ]
  },
  {
   "cell_type": "markdown",
   "metadata": {},
   "source": [
    "У нас есть строчка \"одинаковых\tодинаков\tодинаковый\". Стемминг в данном примере у слова \"одинаковых\" убирает окончание и оставляет неизменяемую часть слова, где получается \"одинаков\". Лемматизация в данном случае нашла словарную форму слова \"одинаковых\", то ест основу слова(грубо говоря) и основой для слова оказалось слово \"одинаковый\". "
   ]
  },
  {
   "cell_type": "markdown",
   "metadata": {},
   "source": [
    "5\\. Добавьте в таблицу `recipes` столбец `description_no_stopwords`, в котором содержится текст описания рецепта после удаления из него стоп-слов. Посчитайте и выведите на экран долю стоп-слов среди общего количества слов. Сравните топ-10 самых часто употребляемых слов до и после удаления стоп-слов."
   ]
  },
  {
   "cell_type": "code",
   "execution_count": 694,
   "metadata": {},
   "outputs": [],
   "source": [
    "def without_sw(row):\n",
    "    stop_words = set(stopwords.words('russian'))\n",
    "    tokenized = word_tokenize(row)\n",
    "    return ' '.join([i for i in tokenized if i not in stop_words])\n",
    "                  "
   ]
  },
  {
   "cell_type": "code",
   "execution_count": 704,
   "metadata": {},
   "outputs": [
    {
     "data": {
      "text/html": [
       "<div>\n",
       "<style scoped>\n",
       "    .dataframe tbody tr th:only-of-type {\n",
       "        vertical-align: middle;\n",
       "    }\n",
       "\n",
       "    .dataframe tbody tr th {\n",
       "        vertical-align: top;\n",
       "    }\n",
       "\n",
       "    .dataframe thead th {\n",
       "        text-align: right;\n",
       "    }\n",
       "</style>\n",
       "<table border=\"1\" class=\"dataframe\">\n",
       "  <thead>\n",
       "    <tr style=\"text-align: right;\">\n",
       "      <th></th>\n",
       "      <th>url</th>\n",
       "      <th>name</th>\n",
       "      <th>ingredients</th>\n",
       "      <th>description</th>\n",
       "      <th>description_no_stopwords</th>\n",
       "    </tr>\n",
       "  </thead>\n",
       "  <tbody>\n",
       "    <tr>\n",
       "      <th>0</th>\n",
       "      <td>https://www.povarenok.ru/recipes/show/164365/</td>\n",
       "      <td>Густой молочно-клубничный коктейль</td>\n",
       "      <td>{'Молоко': '250 мл', 'Клубника': '200 г', 'Сах...</td>\n",
       "      <td>этот коктейль готовлю из замороженной клубники...</td>\n",
       "      <td>коктейль готовлю замороженной клубники клубник...</td>\n",
       "    </tr>\n",
       "    <tr>\n",
       "      <th>1</th>\n",
       "      <td>https://www.povarenok.ru/recipes/show/1306/</td>\n",
       "      <td>Рулетики</td>\n",
       "      <td>{'Сыр твердый': None, 'Чеснок': None, 'Яйцо ку...</td>\n",
       "      <td>быстро и вкусно</td>\n",
       "      <td>быстро вкусно</td>\n",
       "    </tr>\n",
       "    <tr>\n",
       "      <th>2</th>\n",
       "      <td>https://www.povarenok.ru/recipes/show/10625/</td>\n",
       "      <td>Салат \"Баклажанчик\"</td>\n",
       "      <td>{'Баклажан': '3 шт', 'Лук репчатый': '2 шт', '...</td>\n",
       "      <td>сытный овощной салатик пальчики оближете</td>\n",
       "      <td>сытный овощной салатик пальчики оближете</td>\n",
       "    </tr>\n",
       "    <tr>\n",
       "      <th>3</th>\n",
       "      <td>https://www.povarenok.ru/recipes/show/167337/</td>\n",
       "      <td>Куриные котлеты с картофельным пюре в духовке</td>\n",
       "      <td>{'Фарш куриный': '800 г', 'Пюре картофельное':...</td>\n",
       "      <td>картофельное пюре и куриные котлеты  вкусная к...</td>\n",
       "      <td>картофельное пюре куриные котлеты вкусная клас...</td>\n",
       "    </tr>\n",
       "    <tr>\n",
       "      <th>4</th>\n",
       "      <td>https://www.povarenok.ru/recipes/show/91919/</td>\n",
       "      <td>Рецепт вишневой наливки</td>\n",
       "      <td>{'Вишня': '1 кг', 'Водка': '1 л', 'Сахар': '30...</td>\n",
       "      <td>вишневая наливка имеет яркий вишневый вкус кот...</td>\n",
       "      <td>вишневая наливка имеет яркий вишневый вкус кот...</td>\n",
       "    </tr>\n",
       "    <tr>\n",
       "      <th>...</th>\n",
       "      <td>...</td>\n",
       "      <td>...</td>\n",
       "      <td>...</td>\n",
       "      <td>...</td>\n",
       "      <td>...</td>\n",
       "    </tr>\n",
       "    <tr>\n",
       "      <th>3462</th>\n",
       "      <td>https://www.povarenok.ru/recipes/show/54574/</td>\n",
       "      <td>Мшош</td>\n",
       "      <td>{'Чечевица': '1 стак.', 'Лук репчатый': '2 шт'...</td>\n",
       "      <td>для тех кто любит чечевицу вам сюда очень вкус...</td>\n",
       "      <td>тех любит чечевицу сюда очень вкусная чечевичн...</td>\n",
       "    </tr>\n",
       "    <tr>\n",
       "      <th>3463</th>\n",
       "      <td>https://www.povarenok.ru/recipes/show/113494/</td>\n",
       "      <td>Мясные треугольники с баклажаном</td>\n",
       "      <td>{'Фарш мясной': '400 г', 'Баклажан': '1 шт', '...</td>\n",
       "      <td>баклажановые фантазии продолжаются предлагаю в...</td>\n",
       "      <td>баклажановые фантазии продолжаются предлагаю в...</td>\n",
       "    </tr>\n",
       "    <tr>\n",
       "      <th>3464</th>\n",
       "      <td>https://www.povarenok.ru/recipes/show/83228/</td>\n",
       "      <td>\"Болоньез\" по-новому</td>\n",
       "      <td>{'Фарш мясной': '400 г', 'Томаты в собственном...</td>\n",
       "      <td>мое любимое блюдо лазанья но кушать только фар...</td>\n",
       "      <td>мое любимое блюдо лазанья кушать фарш поднадое...</td>\n",
       "    </tr>\n",
       "    <tr>\n",
       "      <th>3465</th>\n",
       "      <td>https://www.povarenok.ru/recipes/show/172238/</td>\n",
       "      <td>Варенье из одуванчиков с апельсинами</td>\n",
       "      <td>{'Цветки': '400 г', 'Сахар': '1300 г', 'Апельс...</td>\n",
       "      <td>прошлым летом варила варенье из одуванчиков по...</td>\n",
       "      <td>прошлым летом варила варенье одуванчиков рецеп...</td>\n",
       "    </tr>\n",
       "    <tr>\n",
       "      <th>3466</th>\n",
       "      <td>https://www.povarenok.ru/recipes/show/52794/</td>\n",
       "      <td>Три корочки хлеба под соусом болоньез для Пино...</td>\n",
       "      <td>{'Хлеб': '3 шт', 'Фарш мясной': '200-250 г', '...</td>\n",
       "      <td>и три корочки хлеба  сделал заказ буратино в ...</td>\n",
       "      <td>корочки хлеба сделал заказ буратино таверне до...</td>\n",
       "    </tr>\n",
       "  </tbody>\n",
       "</table>\n",
       "<p>3467 rows × 5 columns</p>\n",
       "</div>"
      ],
      "text/plain": [
       "                                                url  \\\n",
       "0     https://www.povarenok.ru/recipes/show/164365/   \n",
       "1       https://www.povarenok.ru/recipes/show/1306/   \n",
       "2      https://www.povarenok.ru/recipes/show/10625/   \n",
       "3     https://www.povarenok.ru/recipes/show/167337/   \n",
       "4      https://www.povarenok.ru/recipes/show/91919/   \n",
       "...                                             ...   \n",
       "3462   https://www.povarenok.ru/recipes/show/54574/   \n",
       "3463  https://www.povarenok.ru/recipes/show/113494/   \n",
       "3464   https://www.povarenok.ru/recipes/show/83228/   \n",
       "3465  https://www.povarenok.ru/recipes/show/172238/   \n",
       "3466   https://www.povarenok.ru/recipes/show/52794/   \n",
       "\n",
       "                                                   name  \\\n",
       "0                    Густой молочно-клубничный коктейль   \n",
       "1                                              Рулетики   \n",
       "2                                   Салат \"Баклажанчик\"   \n",
       "3         Куриные котлеты с картофельным пюре в духовке   \n",
       "4                               Рецепт вишневой наливки   \n",
       "...                                                 ...   \n",
       "3462                                               Мшош   \n",
       "3463                   Мясные треугольники с баклажаном   \n",
       "3464                               \"Болоньез\" по-новому   \n",
       "3465               Варенье из одуванчиков с апельсинами   \n",
       "3466  Три корочки хлеба под соусом болоньез для Пино...   \n",
       "\n",
       "                                            ingredients  \\\n",
       "0     {'Молоко': '250 мл', 'Клубника': '200 г', 'Сах...   \n",
       "1     {'Сыр твердый': None, 'Чеснок': None, 'Яйцо ку...   \n",
       "2     {'Баклажан': '3 шт', 'Лук репчатый': '2 шт', '...   \n",
       "3     {'Фарш куриный': '800 г', 'Пюре картофельное':...   \n",
       "4     {'Вишня': '1 кг', 'Водка': '1 л', 'Сахар': '30...   \n",
       "...                                                 ...   \n",
       "3462  {'Чечевица': '1 стак.', 'Лук репчатый': '2 шт'...   \n",
       "3463  {'Фарш мясной': '400 г', 'Баклажан': '1 шт', '...   \n",
       "3464  {'Фарш мясной': '400 г', 'Томаты в собственном...   \n",
       "3465  {'Цветки': '400 г', 'Сахар': '1300 г', 'Апельс...   \n",
       "3466  {'Хлеб': '3 шт', 'Фарш мясной': '200-250 г', '...   \n",
       "\n",
       "                                            description  \\\n",
       "0     этот коктейль готовлю из замороженной клубники...   \n",
       "1                                       быстро и вкусно   \n",
       "2              сытный овощной салатик пальчики оближете   \n",
       "3     картофельное пюре и куриные котлеты  вкусная к...   \n",
       "4     вишневая наливка имеет яркий вишневый вкус кот...   \n",
       "...                                                 ...   \n",
       "3462  для тех кто любит чечевицу вам сюда очень вкус...   \n",
       "3463  баклажановые фантазии продолжаются предлагаю в...   \n",
       "3464  мое любимое блюдо лазанья но кушать только фар...   \n",
       "3465  прошлым летом варила варенье из одуванчиков по...   \n",
       "3466   и три корочки хлеба  сделал заказ буратино в ...   \n",
       "\n",
       "                               description_no_stopwords  \n",
       "0     коктейль готовлю замороженной клубники клубник...  \n",
       "1                                         быстро вкусно  \n",
       "2              сытный овощной салатик пальчики оближете  \n",
       "3     картофельное пюре куриные котлеты вкусная клас...  \n",
       "4     вишневая наливка имеет яркий вишневый вкус кот...  \n",
       "...                                                 ...  \n",
       "3462  тех любит чечевицу сюда очень вкусная чечевичн...  \n",
       "3463  баклажановые фантазии продолжаются предлагаю в...  \n",
       "3464  мое любимое блюдо лазанья кушать фарш поднадое...  \n",
       "3465  прошлым летом варила варенье одуванчиков рецеп...  \n",
       "3466  корочки хлеба сделал заказ буратино таверне до...  \n",
       "\n",
       "[3467 rows x 5 columns]"
      ]
     },
     "execution_count": 704,
     "metadata": {},
     "output_type": "execute_result"
    }
   ],
   "source": [
    "recipes['description_no_stopwords'] = recipes['description'].apply(without_sw)"
   ]
  },
  {
   "cell_type": "code",
   "execution_count": 706,
   "metadata": {},
   "outputs": [],
   "source": [
    "words_in_description = len(pd.Series(sum(map(word_tokenize, recipes['description']),[])))\n",
    "w_in_description_no_stopwords = len(pd.Series(sum(map(word_tokenize, recipes['description_no_stopwords']),[])))"
   ]
  },
  {
   "cell_type": "code",
   "execution_count": 712,
   "metadata": {},
   "outputs": [
    {
     "data": {
      "text/plain": [
       "32.267086173745845"
      ]
     },
     "execution_count": 712,
     "metadata": {},
     "output_type": "execute_result"
    }
   ],
   "source": [
    "#доля стоп-слов среди общего количества слов\n",
    "(words_in_description - w_in_description_no_stopwords)*100/words_in_description"
   ]
  },
  {
   "cell_type": "code",
   "execution_count": 839,
   "metadata": {},
   "outputs": [],
   "source": [
    "do = pd.Series(sum(map(word_tokenize, recipes['description']),[]))\n",
    "posle = pd.Series(sum(map(word_tokenize, recipes['description_no_stopwords']),[]))"
   ]
  },
  {
   "cell_type": "code",
   "execution_count": 846,
   "metadata": {},
   "outputs": [
    {
     "data": {
      "text/plain": [
       "и         5054\n",
       "в         2584\n",
       "с         1934\n",
       "на        1655\n",
       "очень     1607\n",
       "не        1522\n",
       "из        1006\n",
       "я          979\n",
       "рецепт     869\n",
       "а          863\n",
       "dtype: int64"
      ]
     },
     "execution_count": 846,
     "metadata": {},
     "output_type": "execute_result"
    }
   ],
   "source": [
    "do_sw = pd.DataFrame(do.values.flatten()).value_counts()[:10]\n",
    "do_sw"
   ]
  },
  {
   "cell_type": "code",
   "execution_count": 847,
   "metadata": {},
   "outputs": [
    {
     "data": {
      "text/plain": [
       "очень          1607\n",
       "рецепт          869\n",
       "это             734\n",
       "блюдо           524\n",
       "вкусный         461\n",
       "просто          436\n",
       "вкусно          375\n",
       "приготовить     344\n",
       "вкус            324\n",
       "салат           313\n",
       "dtype: int64"
      ]
     },
     "execution_count": 847,
     "metadata": {},
     "output_type": "execute_result"
    }
   ],
   "source": [
    "posle_sw = pd.DataFrame(posle.values.flatten()).value_counts()[:10]\n",
    "posle_sw"
   ]
  },
  {
   "cell_type": "markdown",
   "metadata": {},
   "source": [
    "### Векторное представление текста"
   ]
  },
  {
   "cell_type": "markdown",
   "metadata": {},
   "source": [
    "6\\. Выберите случайным образом 5 рецептов из набора данных, в названии которых есть слово \"оладьи\" (без учета регистра). Представьте описание каждого рецепта в виде числового вектора при помощи `TfidfVectorizer`. На основе полученных векторов создайте `pd.DataFrame`, в котором названия колонок соответствуют словам из словаря объекта-векторизатора. \n",
    "\n",
    "Примечание: обратите внимание на порядок слов при создании колонок."
   ]
  },
  {
   "cell_type": "code",
   "execution_count": 766,
   "metadata": {},
   "outputs": [
    {
     "data": {
      "text/html": [
       "<div>\n",
       "<style scoped>\n",
       "    .dataframe tbody tr th:only-of-type {\n",
       "        vertical-align: middle;\n",
       "    }\n",
       "\n",
       "    .dataframe tbody tr th {\n",
       "        vertical-align: top;\n",
       "    }\n",
       "\n",
       "    .dataframe thead th {\n",
       "        text-align: right;\n",
       "    }\n",
       "</style>\n",
       "<table border=\"1\" class=\"dataframe\">\n",
       "  <thead>\n",
       "    <tr style=\"text-align: right;\">\n",
       "      <th></th>\n",
       "      <th>url</th>\n",
       "      <th>name</th>\n",
       "      <th>ingredients</th>\n",
       "      <th>description</th>\n",
       "      <th>description_no_stopwords</th>\n",
       "    </tr>\n",
       "  </thead>\n",
       "  <tbody>\n",
       "    <tr>\n",
       "      <th>614</th>\n",
       "      <td>https://www.povarenok.ru/recipes/show/103747/</td>\n",
       "      <td>Тыквенные оладьи с лимоном</td>\n",
       "      <td>{'Тыква': '300 г', 'Цедра лимона': '1 ч. л.', ...</td>\n",
       "      <td>нежные сладкие оладушки с лимонной ноткой  на ...</td>\n",
       "      <td>нежные сладкие оладушки лимонной ноткой скорую...</td>\n",
       "    </tr>\n",
       "    <tr>\n",
       "      <th>2506</th>\n",
       "      <td>https://www.povarenok.ru/recipes/show/57827/</td>\n",
       "      <td>Нежные куриные оладьи</td>\n",
       "      <td>{'Филе куриное': '500 г', 'Сыр плавленый': '2 ...</td>\n",
       "      <td>нежные сочные оладьи и очень очень очень вкусные</td>\n",
       "      <td>нежные сочные оладьи очень очень очень вкусные</td>\n",
       "    </tr>\n",
       "    <tr>\n",
       "      <th>1343</th>\n",
       "      <td>https://www.povarenok.ru/recipes/show/138068/</td>\n",
       "      <td>Оладьи на балканский манер</td>\n",
       "      <td>{'Сыворотка': '300 мл', 'Крупа манная': '2 ст....</td>\n",
       "      <td>яркое и ароматное блюдо сытное но не тяжелое о...</td>\n",
       "      <td>яркое ароматное блюдо сытное тяжелое отличная ...</td>\n",
       "    </tr>\n",
       "    <tr>\n",
       "      <th>2162</th>\n",
       "      <td>https://www.povarenok.ru/recipes/show/88081/</td>\n",
       "      <td>Оладьи мультизлаковые</td>\n",
       "      <td>{'Хлопья злаковые': '1 стак.', 'Мука кукурузна...</td>\n",
       "      <td>больше всего на свете мой старший сын любит ол...</td>\n",
       "      <td>свете старший сын любит оладушки блинчики млад...</td>\n",
       "    </tr>\n",
       "    <tr>\n",
       "      <th>1516</th>\n",
       "      <td>https://www.povarenok.ru/recipes/show/135218/</td>\n",
       "      <td>Оладьи из брокколи</td>\n",
       "      <td>{'Брокколи': None, 'Яйцо куриное': None, 'Мука...</td>\n",
       "      <td>эти оладушки имеют очень пикантный вкус благод...</td>\n",
       "      <td>оладушки имеют очень пикантный вкус благодаря ...</td>\n",
       "    </tr>\n",
       "  </tbody>\n",
       "</table>\n",
       "</div>"
      ],
      "text/plain": [
       "                                                url  \\\n",
       "614   https://www.povarenok.ru/recipes/show/103747/   \n",
       "2506   https://www.povarenok.ru/recipes/show/57827/   \n",
       "1343  https://www.povarenok.ru/recipes/show/138068/   \n",
       "2162   https://www.povarenok.ru/recipes/show/88081/   \n",
       "1516  https://www.povarenok.ru/recipes/show/135218/   \n",
       "\n",
       "                            name  \\\n",
       "614   Тыквенные оладьи с лимоном   \n",
       "2506       Нежные куриные оладьи   \n",
       "1343  Оладьи на балканский манер   \n",
       "2162       Оладьи мультизлаковые   \n",
       "1516          Оладьи из брокколи   \n",
       "\n",
       "                                            ingredients  \\\n",
       "614   {'Тыква': '300 г', 'Цедра лимона': '1 ч. л.', ...   \n",
       "2506  {'Филе куриное': '500 г', 'Сыр плавленый': '2 ...   \n",
       "1343  {'Сыворотка': '300 мл', 'Крупа манная': '2 ст....   \n",
       "2162  {'Хлопья злаковые': '1 стак.', 'Мука кукурузна...   \n",
       "1516  {'Брокколи': None, 'Яйцо куриное': None, 'Мука...   \n",
       "\n",
       "                                            description  \\\n",
       "614   нежные сладкие оладушки с лимонной ноткой  на ...   \n",
       "2506   нежные сочные оладьи и очень очень очень вкусные   \n",
       "1343  яркое и ароматное блюдо сытное но не тяжелое о...   \n",
       "2162  больше всего на свете мой старший сын любит ол...   \n",
       "1516  эти оладушки имеют очень пикантный вкус благод...   \n",
       "\n",
       "                               description_no_stopwords  \n",
       "614   нежные сладкие оладушки лимонной ноткой скорую...  \n",
       "2506     нежные сочные оладьи очень очень очень вкусные  \n",
       "1343  яркое ароматное блюдо сытное тяжелое отличная ...  \n",
       "2162  свете старший сын любит оладушки блинчики млад...  \n",
       "1516  оладушки имеют очень пикантный вкус благодаря ...  "
      ]
     },
     "execution_count": 766,
     "metadata": {},
     "output_type": "execute_result"
    }
   ],
   "source": [
    "olad_in_recipes = recipes[recipes['name'].str.lower().str.contains('оладьи')].sample(5)\n",
    "olad_in_recipes"
   ]
  },
  {
   "cell_type": "code",
   "execution_count": 767,
   "metadata": {},
   "outputs": [],
   "source": [
    "vectorizer = TfidfVectorizer()"
   ]
  },
  {
   "cell_type": "code",
   "execution_count": 768,
   "metadata": {},
   "outputs": [],
   "source": [
    "vectorizer.fit(olad_in_recipes['description'])\n",
    "transform_ = vectorizer.transform(olad_in_recipes['description']).toarray()"
   ]
  },
  {
   "cell_type": "code",
   "execution_count": 772,
   "metadata": {},
   "outputs": [
    {
     "data": {
      "text/html": [
       "<div>\n",
       "<style scoped>\n",
       "    .dataframe tbody tr th:only-of-type {\n",
       "        vertical-align: middle;\n",
       "    }\n",
       "\n",
       "    .dataframe tbody tr th {\n",
       "        vertical-align: top;\n",
       "    }\n",
       "\n",
       "    .dataframe thead th {\n",
       "        text-align: right;\n",
       "    }\n",
       "</style>\n",
       "<table border=\"1\" class=\"dataframe\">\n",
       "  <thead>\n",
       "    <tr style=\"text-align: right;\">\n",
       "      <th></th>\n",
       "      <th>ароматное</th>\n",
       "      <th>белого</th>\n",
       "      <th>благодаря</th>\n",
       "      <th>близкие</th>\n",
       "      <th>блинчики</th>\n",
       "      <th>блюдо</th>\n",
       "      <th>больше</th>\n",
       "      <th>большой</th>\n",
       "      <th>брокколи</th>\n",
       "      <th>было</th>\n",
       "      <th>...</th>\n",
       "      <th>что</th>\n",
       "      <th>чтобы</th>\n",
       "      <th>шустрый</th>\n",
       "      <th>щеки</th>\n",
       "      <th>эти</th>\n",
       "      <th>этих</th>\n",
       "      <th>это</th>\n",
       "      <th>этом</th>\n",
       "      <th>яблочнотыквенным</th>\n",
       "      <th>яркое</th>\n",
       "    </tr>\n",
       "    <tr>\n",
       "      <th>name</th>\n",
       "      <th></th>\n",
       "      <th></th>\n",
       "      <th></th>\n",
       "      <th></th>\n",
       "      <th></th>\n",
       "      <th></th>\n",
       "      <th></th>\n",
       "      <th></th>\n",
       "      <th></th>\n",
       "      <th></th>\n",
       "      <th></th>\n",
       "      <th></th>\n",
       "      <th></th>\n",
       "      <th></th>\n",
       "      <th></th>\n",
       "      <th></th>\n",
       "      <th></th>\n",
       "      <th></th>\n",
       "      <th></th>\n",
       "      <th></th>\n",
       "      <th></th>\n",
       "    </tr>\n",
       "  </thead>\n",
       "  <tbody>\n",
       "    <tr>\n",
       "      <th>Тыквенные оладьи с лимоном</th>\n",
       "      <td>0.000000</td>\n",
       "      <td>0.000000</td>\n",
       "      <td>0.000000</td>\n",
       "      <td>0.000000</td>\n",
       "      <td>0.000000</td>\n",
       "      <td>0.000000</td>\n",
       "      <td>0.000000</td>\n",
       "      <td>0.000000</td>\n",
       "      <td>0.000000</td>\n",
       "      <td>0.000000</td>\n",
       "      <td>...</td>\n",
       "      <td>0.000000</td>\n",
       "      <td>0.000000</td>\n",
       "      <td>0.000000</td>\n",
       "      <td>0.000000</td>\n",
       "      <td>0.000000</td>\n",
       "      <td>0.000000</td>\n",
       "      <td>0.000000</td>\n",
       "      <td>0.000000</td>\n",
       "      <td>0.000000</td>\n",
       "      <td>0.000000</td>\n",
       "    </tr>\n",
       "    <tr>\n",
       "      <th>Нежные куриные оладьи</th>\n",
       "      <td>0.000000</td>\n",
       "      <td>0.000000</td>\n",
       "      <td>0.000000</td>\n",
       "      <td>0.000000</td>\n",
       "      <td>0.000000</td>\n",
       "      <td>0.000000</td>\n",
       "      <td>0.000000</td>\n",
       "      <td>0.000000</td>\n",
       "      <td>0.000000</td>\n",
       "      <td>0.000000</td>\n",
       "      <td>...</td>\n",
       "      <td>0.000000</td>\n",
       "      <td>0.000000</td>\n",
       "      <td>0.000000</td>\n",
       "      <td>0.000000</td>\n",
       "      <td>0.000000</td>\n",
       "      <td>0.000000</td>\n",
       "      <td>0.000000</td>\n",
       "      <td>0.000000</td>\n",
       "      <td>0.000000</td>\n",
       "      <td>0.000000</td>\n",
       "    </tr>\n",
       "    <tr>\n",
       "      <th>Оладьи на балканский манер</th>\n",
       "      <td>0.286313</td>\n",
       "      <td>0.000000</td>\n",
       "      <td>0.000000</td>\n",
       "      <td>0.000000</td>\n",
       "      <td>0.000000</td>\n",
       "      <td>0.230995</td>\n",
       "      <td>0.000000</td>\n",
       "      <td>0.000000</td>\n",
       "      <td>0.000000</td>\n",
       "      <td>0.000000</td>\n",
       "      <td>...</td>\n",
       "      <td>0.000000</td>\n",
       "      <td>0.000000</td>\n",
       "      <td>0.000000</td>\n",
       "      <td>0.000000</td>\n",
       "      <td>0.000000</td>\n",
       "      <td>0.000000</td>\n",
       "      <td>0.000000</td>\n",
       "      <td>0.000000</td>\n",
       "      <td>0.000000</td>\n",
       "      <td>0.286313</td>\n",
       "    </tr>\n",
       "    <tr>\n",
       "      <th>Оладьи мультизлаковые</th>\n",
       "      <td>0.000000</td>\n",
       "      <td>0.070731</td>\n",
       "      <td>0.000000</td>\n",
       "      <td>0.000000</td>\n",
       "      <td>0.070731</td>\n",
       "      <td>0.000000</td>\n",
       "      <td>0.070731</td>\n",
       "      <td>0.000000</td>\n",
       "      <td>0.000000</td>\n",
       "      <td>0.070731</td>\n",
       "      <td>...</td>\n",
       "      <td>0.000000</td>\n",
       "      <td>0.070731</td>\n",
       "      <td>0.070731</td>\n",
       "      <td>0.070731</td>\n",
       "      <td>0.000000</td>\n",
       "      <td>0.070731</td>\n",
       "      <td>0.057065</td>\n",
       "      <td>0.070731</td>\n",
       "      <td>0.070731</td>\n",
       "      <td>0.000000</td>\n",
       "    </tr>\n",
       "    <tr>\n",
       "      <th>Оладьи из брокколи</th>\n",
       "      <td>0.000000</td>\n",
       "      <td>0.000000</td>\n",
       "      <td>0.165071</td>\n",
       "      <td>0.165071</td>\n",
       "      <td>0.000000</td>\n",
       "      <td>0.133178</td>\n",
       "      <td>0.000000</td>\n",
       "      <td>0.165071</td>\n",
       "      <td>0.330141</td>\n",
       "      <td>0.000000</td>\n",
       "      <td>...</td>\n",
       "      <td>0.165071</td>\n",
       "      <td>0.000000</td>\n",
       "      <td>0.000000</td>\n",
       "      <td>0.000000</td>\n",
       "      <td>0.165071</td>\n",
       "      <td>0.000000</td>\n",
       "      <td>0.133178</td>\n",
       "      <td>0.000000</td>\n",
       "      <td>0.000000</td>\n",
       "      <td>0.000000</td>\n",
       "    </tr>\n",
       "  </tbody>\n",
       "</table>\n",
       "<p>5 rows × 174 columns</p>\n",
       "</div>"
      ],
      "text/plain": [
       "                            ароматное    белого  благодаря   близкие  \\\n",
       "name                                                                   \n",
       "Тыквенные оладьи с лимоном   0.000000  0.000000   0.000000  0.000000   \n",
       "Нежные куриные оладьи        0.000000  0.000000   0.000000  0.000000   \n",
       "Оладьи на балканский манер   0.286313  0.000000   0.000000  0.000000   \n",
       "Оладьи мультизлаковые        0.000000  0.070731   0.000000  0.000000   \n",
       "Оладьи из брокколи           0.000000  0.000000   0.165071  0.165071   \n",
       "\n",
       "                            блинчики     блюдо    больше   большой  брокколи  \\\n",
       "name                                                                           \n",
       "Тыквенные оладьи с лимоном  0.000000  0.000000  0.000000  0.000000  0.000000   \n",
       "Нежные куриные оладьи       0.000000  0.000000  0.000000  0.000000  0.000000   \n",
       "Оладьи на балканский манер  0.000000  0.230995  0.000000  0.000000  0.000000   \n",
       "Оладьи мультизлаковые       0.070731  0.000000  0.070731  0.000000  0.000000   \n",
       "Оладьи из брокколи          0.000000  0.133178  0.000000  0.165071  0.330141   \n",
       "\n",
       "                                было  ...       что     чтобы   шустрый  \\\n",
       "name                                  ...                                 \n",
       "Тыквенные оладьи с лимоном  0.000000  ...  0.000000  0.000000  0.000000   \n",
       "Нежные куриные оладьи       0.000000  ...  0.000000  0.000000  0.000000   \n",
       "Оладьи на балканский манер  0.000000  ...  0.000000  0.000000  0.000000   \n",
       "Оладьи мультизлаковые       0.070731  ...  0.000000  0.070731  0.070731   \n",
       "Оладьи из брокколи          0.000000  ...  0.165071  0.000000  0.000000   \n",
       "\n",
       "                                щеки       эти      этих       это      этом  \\\n",
       "name                                                                           \n",
       "Тыквенные оладьи с лимоном  0.000000  0.000000  0.000000  0.000000  0.000000   \n",
       "Нежные куриные оладьи       0.000000  0.000000  0.000000  0.000000  0.000000   \n",
       "Оладьи на балканский манер  0.000000  0.000000  0.000000  0.000000  0.000000   \n",
       "Оладьи мультизлаковые       0.070731  0.000000  0.070731  0.057065  0.070731   \n",
       "Оладьи из брокколи          0.000000  0.165071  0.000000  0.133178  0.000000   \n",
       "\n",
       "                            яблочнотыквенным     яркое  \n",
       "name                                                    \n",
       "Тыквенные оладьи с лимоном          0.000000  0.000000  \n",
       "Нежные куриные оладьи               0.000000  0.000000  \n",
       "Оладьи на балканский манер          0.000000  0.286313  \n",
       "Оладьи мультизлаковые               0.070731  0.000000  \n",
       "Оладьи из брокколи                  0.000000  0.000000  \n",
       "\n",
       "[5 rows x 174 columns]"
      ]
     },
     "execution_count": 772,
     "metadata": {},
     "output_type": "execute_result"
    }
   ],
   "source": [
    "df_2 = pd.DataFrame(transform_,\n",
    "                   columns = vectorizer.get_feature_names(),\n",
    "                   index = olad_in_recipes['name'])\n",
    "df_2"
   ]
  },
  {
   "cell_type": "markdown",
   "metadata": {},
   "source": [
    "7\\. Вычислите близость между каждой парой рецептов, выбранных в задании 6, используя косинусное расстояние (можно воспользоваться функциями из любого пакета: `scipy`, `scikit-learn` или реализовать функцию самому). Результаты оформите в виде таблицы `pd.DataFrame`. В качестве названий строк и столбцов используйте названия рецептов.\n",
    "\n",
    "Примечание: обратите внимание, что $d_{cosine}(x, x) = 0$"
   ]
  },
  {
   "cell_type": "code",
   "execution_count": 782,
   "metadata": {},
   "outputs": [],
   "source": [
    "v = list(transform_)\n",
    "cos_r = np.zeros((5,5))\n",
    "for index, element in product(range(len(df_2)), repeat=2):\n",
    "    cos_r[index, element] = cosine(v[index], v[element])\n",
    "\n",
    "cos_df = pd.DataFrame(cos_r,\n",
    "                     columns = olad_in_recipes['name'],\n",
    "                     index = olad_in_recipes['name'] )"
   ]
  },
  {
   "cell_type": "code",
   "execution_count": 783,
   "metadata": {},
   "outputs": [
    {
     "data": {
      "text/html": [
       "<div>\n",
       "<style scoped>\n",
       "    .dataframe tbody tr th:only-of-type {\n",
       "        vertical-align: middle;\n",
       "    }\n",
       "\n",
       "    .dataframe tbody tr th {\n",
       "        vertical-align: top;\n",
       "    }\n",
       "\n",
       "    .dataframe thead th {\n",
       "        text-align: right;\n",
       "    }\n",
       "</style>\n",
       "<table border=\"1\" class=\"dataframe\">\n",
       "  <thead>\n",
       "    <tr style=\"text-align: right;\">\n",
       "      <th>name</th>\n",
       "      <th>Тыквенные оладьи с лимоном</th>\n",
       "      <th>Нежные куриные оладьи</th>\n",
       "      <th>Оладьи на балканский манер</th>\n",
       "      <th>Оладьи мультизлаковые</th>\n",
       "      <th>Оладьи из брокколи</th>\n",
       "    </tr>\n",
       "    <tr>\n",
       "      <th>name</th>\n",
       "      <th></th>\n",
       "      <th></th>\n",
       "      <th></th>\n",
       "      <th></th>\n",
       "      <th></th>\n",
       "    </tr>\n",
       "  </thead>\n",
       "  <tbody>\n",
       "    <tr>\n",
       "      <th>Тыквенные оладьи с лимоном</th>\n",
       "      <td>0.000000</td>\n",
       "      <td>0.907517</td>\n",
       "      <td>1.000000</td>\n",
       "      <td>0.940139</td>\n",
       "      <td>0.971504</td>\n",
       "    </tr>\n",
       "    <tr>\n",
       "      <th>Нежные куриные оладьи</th>\n",
       "      <td>0.907517</td>\n",
       "      <td>0.000000</td>\n",
       "      <td>1.000000</td>\n",
       "      <td>0.912740</td>\n",
       "      <td>0.918009</td>\n",
       "    </tr>\n",
       "    <tr>\n",
       "      <th>Оладьи на балканский манер</th>\n",
       "      <td>1.000000</td>\n",
       "      <td>1.000000</td>\n",
       "      <td>0.000000</td>\n",
       "      <td>0.963668</td>\n",
       "      <td>0.896078</td>\n",
       "    </tr>\n",
       "    <tr>\n",
       "      <th>Оладьи мультизлаковые</th>\n",
       "      <td>0.940139</td>\n",
       "      <td>0.912740</td>\n",
       "      <td>0.963668</td>\n",
       "      <td>0.000000</td>\n",
       "      <td>0.920107</td>\n",
       "    </tr>\n",
       "    <tr>\n",
       "      <th>Оладьи из брокколи</th>\n",
       "      <td>0.971504</td>\n",
       "      <td>0.918009</td>\n",
       "      <td>0.896078</td>\n",
       "      <td>0.920107</td>\n",
       "      <td>0.000000</td>\n",
       "    </tr>\n",
       "  </tbody>\n",
       "</table>\n",
       "</div>"
      ],
      "text/plain": [
       "name                        Тыквенные оладьи с лимоном  Нежные куриные оладьи  \\\n",
       "name                                                                            \n",
       "Тыквенные оладьи с лимоном                    0.000000               0.907517   \n",
       "Нежные куриные оладьи                         0.907517               0.000000   \n",
       "Оладьи на балканский манер                    1.000000               1.000000   \n",
       "Оладьи мультизлаковые                         0.940139               0.912740   \n",
       "Оладьи из брокколи                            0.971504               0.918009   \n",
       "\n",
       "name                        Оладьи на балканский манер  Оладьи мультизлаковые  \\\n",
       "name                                                                            \n",
       "Тыквенные оладьи с лимоном                    1.000000               0.940139   \n",
       "Нежные куриные оладьи                         1.000000               0.912740   \n",
       "Оладьи на балканский манер                    0.000000               0.963668   \n",
       "Оладьи мультизлаковые                         0.963668               0.000000   \n",
       "Оладьи из брокколи                            0.896078               0.920107   \n",
       "\n",
       "name                        Оладьи из брокколи  \n",
       "name                                            \n",
       "Тыквенные оладьи с лимоном            0.971504  \n",
       "Нежные куриные оладьи                 0.918009  \n",
       "Оладьи на балканский манер            0.896078  \n",
       "Оладьи мультизлаковые                 0.920107  \n",
       "Оладьи из брокколи                    0.000000  "
      ]
     },
     "execution_count": 783,
     "metadata": {},
     "output_type": "execute_result"
    }
   ],
   "source": [
    "cos_df"
   ]
  },
  {
   "cell_type": "markdown",
   "metadata": {},
   "source": [
    "8\\. Напишите функцию, которая принимает на вход `pd.DataFrame`, полученный в задании 7, и возвращает в виде кортежа названия двух различных рецептов, которые являются наиболее похожими. Прокомментируйте результат (в виде текстового комментария). Для объяснения результата сравните слова в описаниях двух этих отзывов."
   ]
  },
  {
   "cell_type": "code",
   "execution_count": 837,
   "metadata": {},
   "outputs": [],
   "source": [
    "def find_closest(sim_df: pd.DataFrame) -> tuple:"
   ]
  }
 ],
 "metadata": {
  "kernelspec": {
   "display_name": "Python 3 (ipykernel)",
   "language": "python",
   "name": "python3"
  },
  "language_info": {
   "codemirror_mode": {
    "name": "ipython",
    "version": 3
   },
   "file_extension": ".py",
   "mimetype": "text/x-python",
   "name": "python",
   "nbconvert_exporter": "python",
   "pygments_lexer": "ipython3",
   "version": "3.9.12"
  }
 },
 "nbformat": 4,
 "nbformat_minor": 4
}
