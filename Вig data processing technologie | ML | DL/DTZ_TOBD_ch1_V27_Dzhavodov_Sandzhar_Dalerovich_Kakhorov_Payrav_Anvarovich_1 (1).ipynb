{
 "cells": [
  {
   "cell_type": "markdown",
   "id": "e14642a3",
   "metadata": {},
   "source": [
    "## Домашнее творческое задание по дисциплине \"Технологии обработки больших данных\" (часть 2)\n",
    "\n",
    "Выполнил: студент группы __ПМ20-1 Джаводов Санджар Далерович__ и студент группы __ПМ20-4 Кахоров Пайрав Анварович__\n",
    "\n",
    "Вариант: __27__\n",
    "\n",
    "    "
   ]
  },
  {
   "cell_type": "markdown",
   "id": "994fd20e",
   "metadata": {},
   "source": [
    "__При решении данных задач не подразумевается использования циклов или генераторов Python в ходе работы с пакетами `numpy`, `pandas` и `dask`, если в задании не сказано обратного. Решения задач, в которых для обработки массивов `numpy`, структур `pandas` или структур `dask` используются явные циклы (без согласования с преподавателем), могут быть признаны некорректными и не засчитаны.__\n",
    "\n",
    "__В задачах, связанных с пакетом `dask`, явно указано, какой коллекцией вы должны пользоваться при решении задачи. Все операции вычислений должны проводиться  над этой коллекцией и средствами пакета `dask`, если в задании не сказано обратного.__ \n",
    "\n"
   ]
  },
  {
   "cell_type": "markdown",
   "id": "3eae01fb",
   "metadata": {},
   "source": [
    "__Задание 1__. В файле `scores.npy` содержится массив оценок рейтингов вопросов. Напишите функцию, которая считает сумму квадратов цифр числа. Векторизуйте эту функцию при помощи `numba.vectorize` и посчитайте количество чисел из файла, сумма квадратов цифр которых меньше 50."
   ]
  },
  {
   "cell_type": "code",
   "execution_count": 2,
   "id": "2b90ef49",
   "metadata": {},
   "outputs": [],
   "source": [
    "import dask.array as da \n",
    "import numpy as np\n",
    "from numba import vectorize, int64, float32, float64, int32\n",
    "import pandas as pd\n",
    "from multiprocessing import Pool\n",
    "import multiprocessing as mp\n",
    "import h5py\n",
    "import dask.bag as db\n",
    "import json\n",
    "import dask.dataframe as dd\n",
    "import sqlite3\n",
    "from sklearn.metrics.pairwise import euclidean_distances"
   ]
  },
  {
   "cell_type": "code",
   "execution_count": 2,
   "id": "6714c9db",
   "metadata": {},
   "outputs": [],
   "source": [
    "x = np.load('scores.npy')"
   ]
  },
  {
   "cell_type": "code",
   "execution_count": 3,
   "id": "1055be47",
   "metadata": {},
   "outputs": [],
   "source": [
    "@vectorize([int64(int64)])\n",
    "def f(x):\n",
    "    x = abs(x)\n",
    "    return (x//1000)**2 + (x//100%10)**2 + (x%100//10)**2 +(x%10)**2 < 50"
   ]
  },
  {
   "cell_type": "code",
   "execution_count": 4,
   "id": "adda9f29",
   "metadata": {},
   "outputs": [
    {
     "data": {
      "text/plain": [
       "594575"
      ]
     },
     "execution_count": 4,
     "metadata": {},
     "output_type": "execute_result"
    }
   ],
   "source": [
    "sum(f(x))"
   ]
  },
  {
   "cell_type": "markdown",
   "id": "ae77559b",
   "metadata": {},
   "source": [
    "__Задание 2__. В файле `questions.csv` содержатся вопросы, заданные на сайте stackoverflow. Создайте базу данных SQLite с таблицей `Questions`. Работая с объектом-курсором, выполните запрос на языке SQL, который возращает вопросы, касающиеся фреймворка Django."
   ]
  },
  {
   "cell_type": "code",
   "execution_count": 108,
   "id": "20c9e756",
   "metadata": {},
   "outputs": [],
   "source": [
    "df = pd.read_csv('questions.csv').iloc[:,-2:]"
   ]
  },
  {
   "cell_type": "code",
   "execution_count": 97,
   "id": "b42a7b44",
   "metadata": {},
   "outputs": [],
   "source": [
    "con = sqlite3.connect('ques.db')"
   ]
  },
  {
   "cell_type": "code",
   "execution_count": 98,
   "id": "aeebda4c",
   "metadata": {},
   "outputs": [],
   "source": [
    "cur = con.cursor()"
   ]
  },
  {
   "cell_type": "code",
   "execution_count": 99,
   "id": "fa3f3e4a",
   "metadata": {},
   "outputs": [
    {
     "data": {
      "text/plain": [
       "<sqlite3.Cursor at 0x23f973f0570>"
      ]
     },
     "execution_count": 99,
     "metadata": {},
     "output_type": "execute_result"
    }
   ],
   "source": [
    "cur.execute('Create table Questions(Title, Body);')"
   ]
  },
  {
   "cell_type": "code",
   "execution_count": 103,
   "id": "a282add1",
   "metadata": {},
   "outputs": [],
   "source": [
    "data = list(df[['Title', 'Body']].itertuples(index = False, name = None))\n"
   ]
  },
  {
   "cell_type": "code",
   "execution_count": 104,
   "id": "2b0013c3",
   "metadata": {},
   "outputs": [
    {
     "data": {
      "text/plain": [
       "<sqlite3.Cursor at 0x23f973f0570>"
      ]
     },
     "execution_count": 104,
     "metadata": {},
     "output_type": "execute_result"
    }
   ],
   "source": [
    "cur.executemany(\"Insert Into Questions Values(?,?)\", data)"
   ]
  },
  {
   "cell_type": "code",
   "execution_count": 105,
   "id": "e2d958b9",
   "metadata": {},
   "outputs": [
    {
     "data": {
      "text/plain": [
       "[('Class views in Django',\n",
       "  '<p><a href=\"http://www.djangoproject.com/\">Django</a> view points to a function, which can be a problem if you want to change only a bit of functionality. Yes, I could have million keyword arguments and even more if statements in the function, but I was thinking more of an object oriented approach.</p>\\r\\\\n\\r\\\\n<p>For example, I have a page that displays a user. This page is very similar to page that displays a group, but it\\'s still not so similar to just use another data model. Group also has members etc...</p>\\r\\\\n\\r\\\\n<p>One way would be to point views to class methods and then extend that class. Has anyone tried this approach or has any other idea? </p>')]"
      ]
     },
     "execution_count": 105,
     "metadata": {},
     "output_type": "execute_result"
    }
   ],
   "source": [
    "res = cur.execute(\"\"\"Select * \n",
    "                    from Questions \n",
    "                    where Title Like '%django%' \n",
    "                    OR Title Like '%Django%'\n",
    "                    OR Body Like '%django%'\n",
    "                    OR Body Like '%Django%'\"\"\")\n",
    "res.fetchmany()"
   ]
  },
  {
   "cell_type": "code",
   "execution_count": 106,
   "id": "3f6f94d6",
   "metadata": {},
   "outputs": [
    {
     "data": {
      "text/plain": [
       "61596"
      ]
     },
     "execution_count": 106,
     "metadata": {},
     "output_type": "execute_result"
    }
   ],
   "source": [
    "len(res.fetchall())"
   ]
  },
  {
   "cell_type": "markdown",
   "id": "f7f19371",
   "metadata": {},
   "source": [
    "__Задание 3__. В файле `questions.csv` содержатся вопросы, заданные на сайте stackoverflow. Используя `multiprocessing.Pool` выясните, сколько вопросов задали в 2011 году. При решении задачи разделите файл на части, для обработки каждой из частей используйте параллельные вычисления."
   ]
  },
  {
   "cell_type": "code",
   "execution_count": 3,
   "id": "96209cb2",
   "metadata": {},
   "outputs": [],
   "source": [
    "df = pd.read_csv('questions.csv')"
   ]
  },
  {
   "cell_type": "code",
   "execution_count": 4,
   "id": "0bf2523a",
   "metadata": {},
   "outputs": [
    {
     "data": {
      "text/html": [
       "<div>\n",
       "<style scoped>\n",
       "    .dataframe tbody tr th:only-of-type {\n",
       "        vertical-align: middle;\n",
       "    }\n",
       "\n",
       "    .dataframe tbody tr th {\n",
       "        vertical-align: top;\n",
       "    }\n",
       "\n",
       "    .dataframe thead th {\n",
       "        text-align: right;\n",
       "    }\n",
       "</style>\n",
       "<table border=\"1\" class=\"dataframe\">\n",
       "  <thead>\n",
       "    <tr style=\"text-align: right;\">\n",
       "      <th></th>\n",
       "      <th>Id</th>\n",
       "      <th>OwnerUserId</th>\n",
       "      <th>CreationDate</th>\n",
       "      <th>Score</th>\n",
       "      <th>Title</th>\n",
       "      <th>Body</th>\n",
       "    </tr>\n",
       "  </thead>\n",
       "  <tbody>\n",
       "    <tr>\n",
       "      <th>0</th>\n",
       "      <td>469</td>\n",
       "      <td>147.0</td>\n",
       "      <td>2008-08-02T15:11:16Z</td>\n",
       "      <td>21</td>\n",
       "      <td>How can I find the full path to a font from it...</td>\n",
       "      <td>&lt;p&gt;I am using the Photoshop's javascript API t...</td>\n",
       "    </tr>\n",
       "    <tr>\n",
       "      <th>1</th>\n",
       "      <td>502</td>\n",
       "      <td>147.0</td>\n",
       "      <td>2008-08-02T17:01:58Z</td>\n",
       "      <td>27</td>\n",
       "      <td>Get a preview JPEG of a PDF on Windows?</td>\n",
       "      <td>&lt;p&gt;I have a cross-platform (Python) applicatio...</td>\n",
       "    </tr>\n",
       "    <tr>\n",
       "      <th>2</th>\n",
       "      <td>535</td>\n",
       "      <td>154.0</td>\n",
       "      <td>2008-08-02T18:43:54Z</td>\n",
       "      <td>40</td>\n",
       "      <td>Continuous Integration System for a Python Cod...</td>\n",
       "      <td>&lt;p&gt;I'm starting work on a hobby project with a...</td>\n",
       "    </tr>\n",
       "    <tr>\n",
       "      <th>3</th>\n",
       "      <td>594</td>\n",
       "      <td>116.0</td>\n",
       "      <td>2008-08-03T01:15:08Z</td>\n",
       "      <td>25</td>\n",
       "      <td>cx_Oracle: How do I iterate over a result set?</td>\n",
       "      <td>&lt;p&gt;There are several ways to iterate over a re...</td>\n",
       "    </tr>\n",
       "    <tr>\n",
       "      <th>4</th>\n",
       "      <td>683</td>\n",
       "      <td>199.0</td>\n",
       "      <td>2008-08-03T13:19:16Z</td>\n",
       "      <td>28</td>\n",
       "      <td>Using 'in' to match an attribute of Python obj...</td>\n",
       "      <td>&lt;p&gt;I don't remember whether I was dreaming or ...</td>\n",
       "    </tr>\n",
       "  </tbody>\n",
       "</table>\n",
       "</div>"
      ],
      "text/plain": [
       "    Id  OwnerUserId          CreationDate  Score  \\\n",
       "0  469        147.0  2008-08-02T15:11:16Z     21   \n",
       "1  502        147.0  2008-08-02T17:01:58Z     27   \n",
       "2  535        154.0  2008-08-02T18:43:54Z     40   \n",
       "3  594        116.0  2008-08-03T01:15:08Z     25   \n",
       "4  683        199.0  2008-08-03T13:19:16Z     28   \n",
       "\n",
       "                                               Title  \\\n",
       "0  How can I find the full path to a font from it...   \n",
       "1            Get a preview JPEG of a PDF on Windows?   \n",
       "2  Continuous Integration System for a Python Cod...   \n",
       "3     cx_Oracle: How do I iterate over a result set?   \n",
       "4  Using 'in' to match an attribute of Python obj...   \n",
       "\n",
       "                                                Body  \n",
       "0  <p>I am using the Photoshop's javascript API t...  \n",
       "1  <p>I have a cross-platform (Python) applicatio...  \n",
       "2  <p>I'm starting work on a hobby project with a...  \n",
       "3  <p>There are several ways to iterate over a re...  \n",
       "4  <p>I don't remember whether I was dreaming or ...  "
      ]
     },
     "execution_count": 4,
     "metadata": {},
     "output_type": "execute_result"
    }
   ],
   "source": [
    "df.head()"
   ]
  },
  {
   "cell_type": "code",
   "execution_count": 14,
   "id": "5a167b19",
   "metadata": {},
   "outputs": [
    {
     "name": "stdout",
     "output_type": "stream",
     "text": [
      "Overwriting date.py\n"
     ]
    }
   ],
   "source": [
    "%%file date.py\n",
    "\n",
    "def date(x):\n",
    "    s = 0\n",
    "    if x[:4] == '2011':\n",
    "        s += 1\n",
    "    return s"
   ]
  },
  {
   "cell_type": "code",
   "execution_count": 15,
   "id": "009a52b1",
   "metadata": {},
   "outputs": [],
   "source": [
    "import date"
   ]
  },
  {
   "cell_type": "code",
   "execution_count": 16,
   "id": "e11da8da",
   "metadata": {},
   "outputs": [
    {
     "name": "stdout",
     "output_type": "stream",
     "text": [
      "40910\n"
     ]
    }
   ],
   "source": [
    "pool = mp.Pool()\n",
    "results = pool.map(date.date,list(df['CreationDate']))\n",
    "print(sum(results))"
   ]
  },
  {
   "cell_type": "markdown",
   "id": "753183c4",
   "metadata": {},
   "source": [
    "__Задание 4__. В файле `qembeddings.hdf` находятся векторные представления заголовков вопросов, заданные на сайте stackoverflow. В файле `qtitles.pickle` находится список заголовков этих вопросов. Напишите функцию, которая для вопроса с индексом `i` возвращает количество вопросов, находящихся от него на расстоянии не более `k` (`k` - параметр функции). Выберите метрику, наиболее подходящую (на ваш взгляд) для решения этой задачи. Для работы с эмбеддингами используйте `dask.array`."
   ]
  },
  {
   "cell_type": "code",
   "execution_count": 2,
   "id": "2633d0d5",
   "metadata": {},
   "outputs": [],
   "source": [
    "qembeddings = h5py.File('qembeddinbgs.h5','r')"
   ]
  },
  {
   "cell_type": "code",
   "execution_count": 3,
   "id": "8364f22b",
   "metadata": {},
   "outputs": [
    {
     "data": {
      "text/plain": [
       "['embeddings']"
      ]
     },
     "execution_count": 3,
     "metadata": {},
     "output_type": "execute_result"
    }
   ],
   "source": [
    "list(qembeddings.keys())"
   ]
  },
  {
   "cell_type": "code",
   "execution_count": 4,
   "id": "b8530898",
   "metadata": {},
   "outputs": [],
   "source": [
    "xdata = qembeddings.get('embeddings')\n",
    "xdata= np.array(xdata)"
   ]
  },
  {
   "cell_type": "code",
   "execution_count": 117,
   "id": "7b5223be",
   "metadata": {},
   "outputs": [
    {
     "data": {
      "text/html": [
       "<table>\n",
       "    <tr>\n",
       "        <td>\n",
       "            <table style=\"border-collapse: collapse;\">\n",
       "                <thead>\n",
       "                    <tr>\n",
       "                        <td> </td>\n",
       "                        <th> Array </th>\n",
       "                        <th> Chunk </th>\n",
       "                    </tr>\n",
       "                </thead>\n",
       "                <tbody>\n",
       "                    \n",
       "                    <tr>\n",
       "                        <th> Bytes </th>\n",
       "                        <td> 714.11 MiB </td>\n",
       "                        <td> 128.00 MiB </td>\n",
       "                    </tr>\n",
       "                    \n",
       "                    <tr>\n",
       "                        <th> Shape </th>\n",
       "                        <td> (600000, 312) </td>\n",
       "                        <td> (107546, 312) </td>\n",
       "                    </tr>\n",
       "                    <tr>\n",
       "                        <th> Dask graph </th>\n",
       "                        <td colspan=\"2\"> 6 chunks in 1 graph layer </td>\n",
       "                    </tr>\n",
       "                    <tr>\n",
       "                        <th> Data type </th>\n",
       "                        <td colspan=\"2\"> float32 numpy.ndarray </td>\n",
       "                    </tr>\n",
       "                </tbody>\n",
       "            </table>\n",
       "        </td>\n",
       "        <td>\n",
       "        <svg width=\"75\" height=\"170\" style=\"stroke:rgb(0,0,0);stroke-width:1\" >\n",
       "\n",
       "  <!-- Horizontal lines -->\n",
       "  <line x1=\"0\" y1=\"0\" x2=\"25\" y2=\"0\" style=\"stroke-width:2\" />\n",
       "  <line x1=\"0\" y1=\"21\" x2=\"25\" y2=\"21\" />\n",
       "  <line x1=\"0\" y1=\"43\" x2=\"25\" y2=\"43\" />\n",
       "  <line x1=\"0\" y1=\"64\" x2=\"25\" y2=\"64\" />\n",
       "  <line x1=\"0\" y1=\"86\" x2=\"25\" y2=\"86\" />\n",
       "  <line x1=\"0\" y1=\"107\" x2=\"25\" y2=\"107\" />\n",
       "  <line x1=\"0\" y1=\"120\" x2=\"25\" y2=\"120\" style=\"stroke-width:2\" />\n",
       "\n",
       "  <!-- Vertical lines -->\n",
       "  <line x1=\"0\" y1=\"0\" x2=\"0\" y2=\"120\" style=\"stroke-width:2\" />\n",
       "  <line x1=\"25\" y1=\"0\" x2=\"25\" y2=\"120\" style=\"stroke-width:2\" />\n",
       "\n",
       "  <!-- Colored Rectangle -->\n",
       "  <polygon points=\"0.0,0.0 25.412616514582485,0.0 25.412616514582485,120.0 0.0,120.0\" style=\"fill:#ECB172A0;stroke-width:0\"/>\n",
       "\n",
       "  <!-- Text -->\n",
       "  <text x=\"12.706308\" y=\"140.000000\" font-size=\"1.0rem\" font-weight=\"100\" text-anchor=\"middle\" >312</text>\n",
       "  <text x=\"45.412617\" y=\"60.000000\" font-size=\"1.0rem\" font-weight=\"100\" text-anchor=\"middle\" transform=\"rotate(-90,45.412617,60.000000)\">600000</text>\n",
       "</svg>\n",
       "        </td>\n",
       "    </tr>\n",
       "</table>"
      ],
      "text/plain": [
       "dask.array<array, shape=(600000, 312), dtype=float32, chunksize=(107546, 312), chunktype=numpy.ndarray>"
      ]
     },
     "execution_count": 117,
     "metadata": {},
     "output_type": "execute_result"
    }
   ],
   "source": [
    "arr = da.from_array(xdata, chunks = 'auto')\n",
    "arr"
   ]
  },
  {
   "cell_type": "code",
   "execution_count": null,
   "id": "8386497a",
   "metadata": {},
   "outputs": [],
   "source": [
    "def evklid(i,k): \n",
    "    a = dataset1[i] \n",
    "    lst = [] \n",
    "    for j in dataset1: \n",
    "        b = math.sqrt(sum((j - a)**2)) \n",
    "        if b <=k: \n",
    "            lst.append(b) \n",
    "    return lst \n",
    "\n",
    "\n",
    "len(evklid(10,0.5))"
   ]
  },
  {
   "cell_type": "markdown",
   "id": "0a071558",
   "metadata": {},
   "source": [
    "__Задание 5__. В файлах `questions_with_answers_*.jsonl` содержатся вопросы, заданные на сайте stackoverflow, и ответы на них. Посчитайте и выведите на экран количество вопросов, на которые дали более 10 ответов. Для обработки данных используйте `dask.bag`."
   ]
  },
  {
   "cell_type": "code",
   "execution_count": 5,
   "id": "c593ae4d",
   "metadata": {},
   "outputs": [],
   "source": [
    "qs = db.read_text('questions_with_answers/*')"
   ]
  },
  {
   "cell_type": "code",
   "execution_count": 6,
   "id": "e4412431",
   "metadata": {},
   "outputs": [],
   "source": [
    "qs = qs.map(json.loads)"
   ]
  },
  {
   "cell_type": "code",
   "execution_count": 94,
   "id": "b2ba8f63",
   "metadata": {},
   "outputs": [],
   "source": [
    "def answer_score(d):\n",
    "    count = []\n",
    "    for i in d['answers']:\n",
    "        count.append(i['Score'])\n",
    "    if sum(count) >= 10:\n",
    "        return True\n",
    "    else:\n",
    "        return False\n",
    "        "
   ]
  },
  {
   "cell_type": "code",
   "execution_count": 96,
   "id": "6b86dcef",
   "metadata": {},
   "outputs": [
    {
     "data": {
      "text/plain": [
       "32893"
      ]
     },
     "execution_count": 96,
     "metadata": {},
     "output_type": "execute_result"
    }
   ],
   "source": [
    "sum(qs.map(answer_score).compute())"
   ]
  },
  {
   "cell_type": "markdown",
   "id": "b68f37fb",
   "metadata": {},
   "source": [
    "__Задание 6__. В файле `questions.csv` содержатся вопросы, заданные на сайте stackoverflow.Проанализируйте и сделайте вывод: существует ли корреляция между длиной описания вопроса и оценкой score этого вопроса. Для обработки данных используйте `dask.dataframe`."
   ]
  },
  {
   "cell_type": "code",
   "execution_count": 45,
   "id": "67981c45",
   "metadata": {},
   "outputs": [],
   "source": [
    "df_dask = dd.read_csv('questions.csv')  "
   ]
  },
  {
   "cell_type": "code",
   "execution_count": 72,
   "id": "029e9211",
   "metadata": {},
   "outputs": [],
   "source": [
    "s1 = df_dask['Body'].map(lambda x: len(x)).compute()"
   ]
  },
  {
   "cell_type": "code",
   "execution_count": 73,
   "id": "a92c8f61",
   "metadata": {},
   "outputs": [],
   "source": [
    "s2 = df_dask['Score'].compute()"
   ]
  },
  {
   "cell_type": "code",
   "execution_count": 77,
   "id": "1e46399a",
   "metadata": {},
   "outputs": [
    {
     "data": {
      "text/plain": [
       "-0.022158584606227983"
      ]
     },
     "execution_count": 77,
     "metadata": {},
     "output_type": "execute_result"
    }
   ],
   "source": [
    "s1.corr(s2)"
   ]
  }
 ],
 "metadata": {
  "kernelspec": {
   "display_name": "Python 3 (ipykernel)",
   "language": "python",
   "name": "python3"
  },
  "language_info": {
   "codemirror_mode": {
    "name": "ipython",
    "version": 3
   },
   "file_extension": ".py",
   "mimetype": "text/x-python",
   "name": "python",
   "nbconvert_exporter": "python",
   "pygments_lexer": "ipython3",
   "version": "3.9.12"
  }
 },
 "nbformat": 4,
 "nbformat_minor": 5
}
