{
 "cells": [
  {
   "cell_type": "markdown",
   "id": "1448d8d5",
   "metadata": {},
   "source": [
    "Парная линейная регрессия\n",
    "Цель работы\n",
    "    Познакомиться с моделью парной линейной регрессии регрессии и методом градиентного спуска.\n",
    "\n",
    "Содержание работы\n",
    "Найти оценки параметров модели парной линейной регрессии прямыми вычислениями и палучить с помощью модели прогнозы результативного прознака.\n",
    "Найти оценки параметров модели парной линейной регрессии с использованием метода градиентного спуска.\n",
    "Оценить качество построенной модели, сравнив на графике обучающую выборку и прогнозы.\n",
    "Построить кривые обучения."
   ]
  },
  {
   "cell_type": "code",
   "execution_count": 1,
   "id": "c828a516",
   "metadata": {},
   "outputs": [],
   "source": [
    "#Загрузим необходимые библиотеки\n",
    "import numpy as np\n",
    "import pandas as pd\n",
    "import matplotlib.pyplot as plt"
   ]
  },
  {
   "cell_type": "code",
   "execution_count": 2,
   "id": "7ca5b3d4",
   "metadata": {},
   "outputs": [
    {
     "data": {
      "text/plain": [
       "array([3, 5, 7, 6, 9])"
      ]
     },
     "metadata": {},
     "output_type": "display_data"
    },
    {
     "data": {
      "text/plain": [
       "array([ 3,  7, 11, 14, 15])"
      ]
     },
     "metadata": {},
     "output_type": "display_data"
    }
   ],
   "source": [
    "#Исходные данные: x - расходы на рекламу, Y - объемы продаж\n",
    "x = np.array([3, 5, 7, 6, 9])\n",
    "Y = np.array([3, 7, 11, 14, 15])\n",
    "display(x, Y)"
   ]
  },
  {
   "cell_type": "code",
   "execution_count": 3,
   "id": "0876841d",
   "metadata": {},
   "outputs": [
    {
     "data": {
      "image/png": "[encoded data removed]",
      "text/plain": [
       "<Figure size 432x288 with 1 Axes>"
      ]
     },
     "metadata": {
      "needs_background": "light"
     },
     "output_type": "display_data"
    }
   ],
   "source": [
    "#Изобразим их на графике\n",
    "plt.figure()\n",
    "plt.scatter(x, Y)\n",
    "plt.show()"
   ]
  },
  {
   "cell_type": "code",
   "execution_count": 4,
   "id": "eda62fa2",
   "metadata": {},
   "outputs": [
    {
     "name": "stdout",
     "output_type": "stream",
     "text": [
      "Модель линейной регрессии: Y^ =  -2.0  +  2.0 * x\n"
     ]
    }
   ],
   "source": [
    "#Вычислим оценки коэффициентов парной линейной регрессии по формулам\n",
    "a1 = ((x - x.mean())*(Y - Y.mean())).mean()/((x - x.mean())**2).mean()\n",
    "a0 = Y.mean() - a1*x.mean()\n",
    "print(\"Модель линейной регрессии: Y^ = \", a0, \" + \", a1, \"* x\")"
   ]
  },
  {
   "cell_type": "code",
   "execution_count": 5,
   "id": "ed9bedbd",
   "metadata": {},
   "outputs": [
    {
     "name": "stdout",
     "output_type": "stream",
     "text": [
      "[3. 4. 5. 6. 7. 8. 9.]\n",
      "[ 4.  6.  8. 10. 12. 14. 16.]\n"
     ]
    }
   ],
   "source": [
    "#Дадим серию прогнозов Y^ для x от 3 до 9 с шагом 1\n",
    "x_space = np.linspace(3, 9, 7)\n",
    "print(x_space)\n",
    "Y_pred = a0 + a1*x_space\n",
    "print(Y_pred)"
   ]
  },
  {
   "cell_type": "code",
   "execution_count": 6,
   "id": "f8bdf836",
   "metadata": {},
   "outputs": [
    {
     "data": {
      "text/plain": [
       "[<matplotlib.lines.Line2D at 0x2177c351310>]"
      ]
     },
     "execution_count": 6,
     "metadata": {},
     "output_type": "execute_result"
    },
    {
     "data": {
      "image/png": "[encoded data removed]",
      "text/plain": [
       "<Figure size 432x288 with 1 Axes>"
      ]
     },
     "metadata": {
      "needs_background": "light"
     },
     "output_type": "display_data"
    }
   ],
   "source": [
    "#Изобразим на графике исходные данные и прогнозы \n",
    "fig  = plt.figure()\n",
    "ax = fig.add_axes([0.1, 0.1, 0.8, 0.8])\n",
    "ax.scatter(x, Y)\n",
    "ax.plot(x_space, Y_pred, 'r')\n",
    "#ax.scatter(x_space, Y_pred)"
   ]
  },
  {
   "cell_type": "code",
   "execution_count": 1,
   "id": "b7e6756b",
   "metadata": {},
   "outputs": [],
   "source": [
    "#Реализуем шаг градиентного спуска в модели парной лдинейной регрессии\n",
    "class SimpleRegression(object):\n",
    "    def __init__(self):\n",
    "        self.a0 = 0\n",
    "        self.a1 = 0\n",
    "    def predict(self, x):\n",
    "        return self.a0 + self.a1*x\n",
    "    def MSE(self, x, Y):\n",
    "        return ((self.predict(x)-Y)**2).mean()\n",
    "    def fit(self, x, Y):\n",
    "        alpha = 0.1\n",
    "        dT_a0 = -2*sum((Y -self.predict(x)))\n",
    "        dT_a1 = -2*sum((Y -self.predict(x))*x)\n",
    "        self.a0 -= alpha*dT_a0\n",
    "        self.a1 -= alpha*dT_a1"
   ]
  },
  {
   "cell_type": "code",
   "execution_count": 5,
   "id": "05a94fdd",
   "metadata": {},
   "outputs": [
    {
     "name": "stdout",
     "output_type": "stream",
     "text": [
      "0\n",
      "0\n",
      "0\n",
      "0\n",
      "0\n",
      "120.0\n"
     ]
    }
   ],
   "source": [
    "#Получим прогнозы до градиентного спуска с начальными значениями параметров\n",
    "regr = SimpleRegression()\n",
    "print(regr.predict(3))\n",
    "print(regr.predict(5))\n",
    "print(regr.predict(7))\n",
    "print(regr.predict(6))\n",
    "print(regr.predict(9))\n",
    "print(regr.MSE(x, Y))"
   ]
  },
  {
   "cell_type": "code",
   "execution_count": 9,
   "id": "2e5ddf12",
   "metadata": {
    "scrolled": true
   },
   "outputs": [
    {
     "data": {
      "text/plain": [
       "[<matplotlib.lines.Line2D at 0x2177c3ce6a0>]"
      ]
     },
     "execution_count": 9,
     "metadata": {},
     "output_type": "execute_result"
    },
    {
     "data": {
      "image/png": "[encoded data removed]",
      "text/plain": [
       "<Figure size 432x288 with 1 Axes>"
      ]
     },
     "metadata": {
      "needs_background": "light"
     },
     "output_type": "display_data"
    }
   ],
   "source": [
    "#Выведем прогнозы до градиентного спуска на графике\n",
    "x_space = np.linspace(3, 9, 7)\n",
    "Y_pred = regr.predict(x_space)\n",
    "fig = plt.figure()\n",
    "ax = fig.add_axes([0.1, 0.1, 0.8, 0.8])\n",
    "ax.scatter(x, Y)\n",
    "ax.plot(x_space, Y_pred, 'r')"
   ]
  },
  {
   "cell_type": "code",
   "execution_count": 10,
   "id": "fdd288dc",
   "metadata": {},
   "outputs": [
    {
     "name": "stdout",
     "output_type": "stream",
     "text": [
      "MSE после первого шага градиентного спуска:  183892.0\n"
     ]
    },
    {
     "data": {
      "text/plain": [
       "[<matplotlib.lines.Line2D at 0x2177c439e50>]"
      ]
     },
     "execution_count": 10,
     "metadata": {},
     "output_type": "execute_result"
    },
    {
     "data": {
      "image/png": "[encoded data removed]",
      "text/plain": [
       "<Figure size 432x288 with 1 Axes>"
      ]
     },
     "metadata": {
      "needs_background": "light"
     },
     "output_type": "display_data"
    }
   ],
   "source": [
    "#Реализуем шаг градиентного спуска\n",
    "regr.fit(x, Y)\n",
    "print(\"MSE после первого шага градиентного спуска: \", regr.MSE(x, Y))\n",
    "Y_pred = regr.predict(x_space)\n",
    "fig = plt.figure()\n",
    "ax = fig.add_axes([0.1, 0.1, 0.8, 0.8])\n",
    "ax.scatter(x, Y)\n",
    "ax.plot(x_space, Y_pred, 'r')"
   ]
  },
  {
   "cell_type": "code",
   "execution_count": 3,
   "id": "557573d9",
   "metadata": {},
   "outputs": [],
   "source": [
    "#Реализуем цикл градиентного спуска\n",
    "class SimpleRegression(object):\n",
    "    def __init__(self):\n",
    "        self.a0 = 0\n",
    "        self.a1 = 0\n",
    "    def predict(self, x):\n",
    "        return self.a0 + self.a1*x\n",
    "    def MSE(self, x, Y):\n",
    "        return ((Y - self.predict(x))**2).mean()\n",
    "    def MAE(self, x, Y):\n",
    "        return abs(Y - self.predict(x)).mean()\n",
    "    def MAPE(self, x, Y):\n",
    "        return abs((Y - self.predict(x))/Y).mean()\n",
    "    def fit(self, x, Y, alpha = 0.001, epsylon = 0.01, max_steps = 5000):\n",
    "        steps, errors = [], []\n",
    "        step = 0\n",
    "        for _ in range(max_steps):\n",
    "            dT_a0 = -2*sum((Y -self.predict(x)))\n",
    "            dT_a1 = -2*sum((Y -self.predict(x))*x)\n",
    "            self.a0 -= alpha*dT_a0\n",
    "            self.a1 -= alpha*dT_a1\n",
    "            new_error = self.MSE(x, Y)\n",
    "            step += 1\n",
    "            steps.append(step)\n",
    "            errors.append(new_error)\n",
    "            if new_error < epsylon:\n",
    "                break\n",
    "        return steps, errors"
   ]
  },
  {
   "cell_type": "code",
   "execution_count": 4,
   "id": "b67c924a",
   "metadata": {},
   "outputs": [],
   "source": [
    "#Запустим цикл градиентного спуска с заданной точностью 5\n",
    "regr = SimpleRegression()\n",
    "steps, errors = regr.fit(x, Y, alpha = 0.001, epsylon = 5)"
   ]
  },
  {
   "cell_type": "code",
   "execution_count": 5,
   "id": "bceab488",
   "metadata": {},
   "outputs": [
    {
     "name": "stdout",
     "output_type": "stream",
     "text": [
      "5.004697916218\n",
      "8.190462542210001\n",
      "11.376227168202002\n",
      "9.783344855206002\n",
      "14.561991794194002\n",
      "MSE после градиентного спуска:  4.709918696051655\n"
     ]
    },
    {
     "ename": "NameError",
     "evalue": "name 'x_space' is not defined",
     "output_type": "error",
     "traceback": [
      "\u001b[1;31m---------------------------------------------------------------------------\u001b[0m",
      "\u001b[1;31mNameError\u001b[0m                                 Traceback (most recent call last)",
      "Input \u001b[1;32mIn [5]\u001b[0m, in \u001b[0;36m<cell line: 8>\u001b[1;34m()\u001b[0m\n\u001b[0;32m      6\u001b[0m \u001b[38;5;28mprint\u001b[39m(regr\u001b[38;5;241m.\u001b[39mpredict(\u001b[38;5;241m9\u001b[39m))\n\u001b[0;32m      7\u001b[0m \u001b[38;5;28mprint\u001b[39m(\u001b[38;5;124m\"\u001b[39m\u001b[38;5;124mMSE после градиентного спуска: \u001b[39m\u001b[38;5;124m\"\u001b[39m, regr\u001b[38;5;241m.\u001b[39mMSE(x, Y))\n\u001b[1;32m----> 8\u001b[0m Y_pred \u001b[38;5;241m=\u001b[39m regr\u001b[38;5;241m.\u001b[39mpredict(\u001b[43mx_space\u001b[49m)\n\u001b[0;32m      9\u001b[0m fig \u001b[38;5;241m=\u001b[39m plt\u001b[38;5;241m.\u001b[39mfigure()\n\u001b[0;32m     10\u001b[0m ax \u001b[38;5;241m=\u001b[39m fig\u001b[38;5;241m.\u001b[39madd_axes([\u001b[38;5;241m0.1\u001b[39m, \u001b[38;5;241m0.1\u001b[39m, \u001b[38;5;241m0.8\u001b[39m, \u001b[38;5;241m0.8\u001b[39m])\n",
      "\u001b[1;31mNameError\u001b[0m: name 'x_space' is not defined"
     ]
    }
   ],
   "source": [
    "#Выведем график  прогнозов и вычислим MSE\n",
    "print(regr.predict(3))\n",
    "print(regr.predict(5))\n",
    "print(regr.predict(7))\n",
    "print(regr.predict(6))\n",
    "print(regr.predict(9))\n",
    "print(\"MSE после градиентного спуска: \", regr.MSE(x, Y))\n",
    "Y_pred = regr.predict(x_space)\n",
    "fig = plt.figure()\n",
    "ax = fig.add_axes([0.1, 0.1, 0.8, 0.8])\n",
    "ax.scatter(x, Y)\n",
    "ax.plot(x_space, Y_pred, 'r')"
   ]
  },
  {
   "cell_type": "code",
   "execution_count": 14,
   "id": "7dc3b523",
   "metadata": {},
   "outputs": [
    {
     "data": {
      "text/plain": [
       "[<matplotlib.lines.Line2D at 0x2177c4a7fd0>]"
      ]
     },
     "execution_count": 14,
     "metadata": {},
     "output_type": "execute_result"
    },
    {
     "data": {
      "image/png": "[encoded data removed]",
      "text/plain": [
       "<Figure size 432x288 with 1 Axes>"
      ]
     },
     "metadata": {
      "needs_background": "light"
     },
     "output_type": "display_data"
    }
   ],
   "source": [
    "#Выведем график изменения MSE в процессе градиентного спуска\n",
    "plt.figure()\n",
    "plt.plot(steps, errors)"
   ]
  },
  {
   "cell_type": "code",
   "execution_count": 15,
   "id": "1acf13e8",
   "metadata": {},
   "outputs": [],
   "source": [
    "#Запустим цикл градиентного спуска с заданной точностью 0.05\n",
    "regr = SimpleRegression()\n",
    "steps, errors = regr.fit(x, Y, alpha = 0.001, epsylon = 0.05)"
   ]
  },
  {
   "cell_type": "code",
   "execution_count": 16,
   "id": "7fc95a34",
   "metadata": {},
   "outputs": [
    {
     "name": "stdout",
     "output_type": "stream",
     "text": [
      "MSE после градиентного спуска:  4.000028517306817\n"
     ]
    },
    {
     "data": {
      "text/plain": [
       "[<matplotlib.lines.Line2D at 0x2177c576070>]"
      ]
     },
     "execution_count": 16,
     "metadata": {},
     "output_type": "execute_result"
    },
    {
     "data": {
      "image/png": "[encoded data removed]",
      "text/plain": [
       "<Figure size 432x288 with 1 Axes>"
      ]
     },
     "metadata": {
      "needs_background": "light"
     },
     "output_type": "display_data"
    }
   ],
   "source": [
    "#Выведем график прогнозов и вычислим MSE\n",
    "print(\"MSE после градиентного спуска: \", regr.MSE(x, Y))\n",
    "Y_pred = regr.predict(x_space)\n",
    "fig = plt.figure()\n",
    "ax = fig.add_axes([0.1, 0.1, 0.8, 0.8])\n",
    "ax.scatter(x, Y)\n",
    "ax.plot(x_space, Y_pred, 'r')"
   ]
  },
  {
   "cell_type": "code",
   "execution_count": 17,
   "id": "174224d7",
   "metadata": {},
   "outputs": [
    {
     "data": {
      "text/plain": [
       "[<matplotlib.lines.Line2D at 0x2177c5cf7f0>]"
      ]
     },
     "execution_count": 17,
     "metadata": {},
     "output_type": "execute_result"
    },
    {
     "data": {
      "image/png": "[encoded data removed]",
      "text/plain": [
       "<Figure size 432x288 with 1 Axes>"
      ]
     },
     "metadata": {
      "needs_background": "light"
     },
     "output_type": "display_data"
    }
   ],
   "source": [
    "#Выведем график изменения MSE в процессе градиентного спуска\n",
    "plt.figure()\n",
    "plt.plot(steps, errors)"
   ]
  },
  {
   "cell_type": "code",
   "execution_count": 18,
   "id": "e36b747e",
   "metadata": {},
   "outputs": [
    {
     "name": "stdout",
     "output_type": "stream",
     "text": [
      "MSE после градиентного спуска:  4.1903709155046345\n"
     ]
    },
    {
     "data": {
      "text/plain": [
       "[<matplotlib.lines.Line2D at 0x2177c506100>]"
      ]
     },
     "execution_count": 18,
     "metadata": {},
     "output_type": "execute_result"
    },
    {
     "data": {
      "image/png": "[encoded data removed]",
      "text/plain": [
       "<Figure size 432x288 with 1 Axes>"
      ]
     },
     "metadata": {
      "needs_background": "light"
     },
     "output_type": "display_data"
    }
   ],
   "source": [
    "#Запустим цикл градиентного спуска с разными значениями скорости обучения alpha=0.0001, 0.01, 0.1, 1, 10, ..., \n",
    "#с различной допукстимой точностью epsylon = 0.001, 0.5, 5, с различным максимальным количеством шагов max_steps\n",
    "regr = SimpleRegression()\n",
    "steps, errors = regr.fit(x, Y, alpha = 0.0001, epsylon = 0.01, max_steps = 5000)\n",
    "print(\"MSE после градиентного спуска: \", regr.MSE(x, Y))\n",
    "Y_pred = regr.predict(x_space)\n",
    "plt.figure()\n",
    "plt.plot(steps, errors)"
   ]
  },
  {
   "cell_type": "markdown",
   "id": "5293159f",
   "metadata": {},
   "source": [
    "Загрузите файл Video Games.csv (с помощью pd.read_csv). \n",
    "\n",
    "Для 11 703 компьютерных игр известны платформа, год выхода, жанр, платформа, издатель, объемы продаж игры - отдельно для Северной Америки, Европы, Японии и других регионов.\n",
    "\n",
    "В обучающей выборке для каждой игры известны следующие поля:\n",
    "\n",
    "Name — название игры;\n",
    "Platform — платформа (PC; DS; GBA; PS; PS2; PS3; PSP; Wii; XB или X360);\n",
    "Year_of_Release — год выпуска;\n",
    "Genre — жанр (Action; Adventure; Fighting; Platform; Puzzle; Racing; Role-Playing; Shooter; Simulation; Sports или Strategy; Misc означает все остальные жанры);\n",
    "Publisher — издатель;\n",
    "NA_Sales — объемы продаж игры в Северной Америке (в млн долл. США);\n",
    "EU_Sales — объемы продаж игры в Европе(в млн долл. США);\n",
    "Other_Sales — объемы продаж игры в других регионах (в млн долл. США);\n",
    "Critic_Score — сумма оценок, данных игре штатными критиками сайта Metacritic;\n",
    "Critic_Count — количество штатных критиков, давших оценки игре;\n",
    "User_Score — сумма оценок, данных игре игры пользователями сайта Metacritic;\n",
    "User_Count — количество пользователей, давших оценки;\n",
    "Developer — разработчик;\n",
    "Rating — рейтинг игры (AO — только для взрослых; 18+ M — только для лиц старше 18 лет; 17+ — только для лиц старше 17 лет; E10+ — для всех старше 10 лет; E — для всех; EC — для детей младшего возраста; RP — рейтинг не присвоен);\n",
    "JP_Sales — объемы продаж игры в Японии (в млн долл. США).\n",
    "\n",
    "Требуется построить модель, предсказывающую объем продаж игры в Японии. \n",
    "\n",
    "Япония - достаточно специфичная страна с точки зрения индустрии развлечений. К тому же государство активно защищает своих производителей, что не способствует импорту. Перед издателями компьютерных игр всегда стоит вопрос: стоит ли игру переводить, подгонять под местный менталитет и платить для входа на японский рынок. Чтобы это понять, следует оценить, на какой кусок пирога можно вообще в Японии рассчитывать. Один из вариантов это сделать – по истории продаж в других регионах. Если игра еще в разработке, за историю продаж можно считать прогнозы: Европа и Америка не такие непредсказуемые рынки, как Япония.\n",
    "\n",
    "Выберите в качестве результативного признака JP_Sales. В качестве факторных признаков выберите все числовые признаки. Также можно для категориальных признаков (Platform, Genre, возможно, Publisher) ввести индикаторы (с помощью sklearn.preprocessing.OneHotEncoder).\n",
    "\n",
    "Вычислите определитель матрицы (x_T*x).\n",
    "\n",
    "Вычислите вектор оценок коэффициентов по формуле a^ = (x_T*x)^(-1)*x_T*Y.\n",
    "\n",
    "На основе класса SimpleRegression (в котором x - это одномерный массив значений факторного признака) создайте класс MultipleRegression, который реализует градиентный спуск для случая, когда x является двумерным массивом, содержащим в каждой строке (для кафдой компьютерной игры) значения нескольких факторных признаков.\n",
    "\n",
    "Обучите модель с помощью метода MultipleRegression.fit, дайте прогнозы JP_Sales^ для каждой игры с помощью MultipleRegression.predict, вычислите ошибки MAE и MAPE.\n",
    "\n",
    "Попробуйте расширить набор факторных признаков, добавив логарифмы, квадраты, кубы"
   ]
  },
  {
   "cell_type": "code",
   "execution_count": 35,
   "id": "51eeea4a",
   "metadata": {},
   "outputs": [],
   "source": [
    "from sklearn.preprocessing import OneHotEncoder\n",
    "from sklearn.preprocessing import OneHotEncoder\n",
    "videogames = pd.read_csv(r\"Video_Games.csv\", index_col = 'id')\n",
    "videogames.head()\n",
    "Y = videogames['jp_sales']\n",
    "\n",
    "x = videogames.drop(['jp_sales','platform','genre','publisher','year'], axis=1)"
   ]
  },
  {
   "cell_type": "code",
   "execution_count": 77,
   "id": "5a9f3d2f",
   "metadata": {},
   "outputs": [],
   "source": [
    "class MultipleRegression(object):\n",
    "    def __init__(self, n):\n",
    "        self.w = np.zeros(n + 1)\n",
    "        \n",
    "    def predict(self, x):\n",
    "        Add_intercept = np.c_[np.ones(x.shape[0]), x]\n",
    "        return np.dot(Add_intercept, self.w)\n",
    "    \n",
    "    def MSE(self,x, Y):\n",
    "        p = self.predict(x)\n",
    "        return ((Y - p)**2).mean()\n",
    "    \n",
    "    def MAE(self, x, Y):\n",
    "        p = self.predict(x)\n",
    "        return abs(Y - p).mean()\n",
    "    \n",
    "    def MAPE(self, x, Y):\n",
    "        p = self.predict(x)\n",
    "        return abs((Y - self.predict(x))/Y).mean()\n",
    "    \n",
    "    def fit(self, x, Y, alpha,  max_steps):\n",
    "        m = x.shape[0]  # кол-во записей \n",
    "        ones =np.ones((m,1))  # для свободного члена a_0\n",
    "        x = np.concatenate((ones, x), axis=1)  #добавим вектор с единицами в матрицу \n",
    "        n = x.shape[1]  \n",
    "        self.w = np.ones(n)    # вектор весов\n",
    "        h = np.dot(x, self.w)   # Y^\n",
    "        # Алгоритм градиентного спуска\n",
    "        cost = np.ones(max_steps)\n",
    "        for i in range (0, max_steps):\n",
    "            self.w[0] = self.w[0] - (alpha / x.shape[0]) * sum(h-Y)\n",
    "            for j in range(1, n):\n",
    "                self.w[j]= self.w[j] - (alpha/ x.shape[0]) * sum((h-Y) * x[:, j])\n",
    "            h=np.dot(x,self.w)\n",
    "            \n",
    "        return  self.w"
   ]
  },
  {
   "cell_type": "code",
   "execution_count": 78,
   "id": "d195515c",
   "metadata": {},
   "outputs": [],
   "source": [
    "n = x.shape[1]\n",
    "regr = MultipleRegression(n)\n",
    "weights = regr.fit(x, Y, alpha = 0.1 , max_steps = 2000)"
   ]
  },
  {
   "cell_type": "code",
   "execution_count": 79,
   "id": "4f17fdbf",
   "metadata": {},
   "outputs": [
    {
     "data": {
      "text/plain": [
       "array([ 1.14352094,  0.09326909,  0.25868843, -0.33008828])"
      ]
     },
     "execution_count": 79,
     "metadata": {},
     "output_type": "execute_result"
    }
   ],
   "source": [
    "weights"
   ]
  },
  {
   "cell_type": "code",
   "execution_count": 80,
   "id": "d2e63150",
   "metadata": {},
   "outputs": [
    {
     "data": {
      "text/plain": [
       "array([1.23095911, 1.14352094, 1.14861428, ..., 1.14352094, 1.14352094,\n",
       "       1.14352094])"
      ]
     },
     "execution_count": 80,
     "metadata": {},
     "output_type": "execute_result"
    }
   ],
   "source": [
    "regr.predict(x)"
   ]
  },
  {
   "cell_type": "code",
   "execution_count": 28,
   "id": "7914ef4e",
   "metadata": {},
   "outputs": [
    {
     "data": {
      "text/plain": [
       "LinearRegression()"
      ]
     },
     "execution_count": 28,
     "metadata": {},
     "output_type": "execute_result"
    }
   ],
   "source": [
    "from sklearn import linear_model  # Importing linear model\n",
    "lm = linear_model.LinearRegression()   # Linear regression\n",
    "lm.fit(x, Y)     "
   ]
  },
  {
   "cell_type": "code",
   "execution_count": 29,
   "id": "670c6073",
   "metadata": {},
   "outputs": [
    {
     "name": "stdout",
     "output_type": "stream",
     "text": [
      "1.143608014975641 [ 0.09324816  0.26165955 -0.3404295 ]\n"
     ]
    }
   ],
   "source": [
    "print(lm.intercept_, lm.coef_)"
   ]
  },
  {
   "cell_type": "code",
   "execution_count": 67,
   "id": "7babacc0",
   "metadata": {},
   "outputs": [],
   "source": [
    "class MultipleRegression(object):\n",
    "    def __init__(self, n):\n",
    "        self.w = np.zeros(n + 1)\n",
    "        \n",
    "    def predict(self, x):\n",
    "        Add_intercept = np.c_[np.ones(x.shape[0]), x]\n",
    "        return np.dot(Add_intercept, self.w)\n",
    "    \n",
    "    def MSE(self,x, Y):\n",
    "        p = self.predict(x)\n",
    "        return ((Y - p)**2).mean()\n",
    "    \n",
    "    def MAE(self, x, Y):\n",
    "        p = self.predict(x)\n",
    "        return abs(Y - p).mean()\n",
    "    \n",
    "    def MAPE(self, x, Y):\n",
    "        p = self.predict(x)\n",
    "        return abs((Y - self.predict(x))/Y).mean()\n",
    "    \n",
    "    def fit(self, x, Y, alpha=0.001, epsilon=0.01, max_steps=5000):\n",
    "        num_samples, num_features = x.shape\n",
    "        Add_intercept = np.c_[np.ones(num_samples), x]  \n",
    "        steps, errors = [], []\n",
    "        step = 0\n",
    "\n",
    "        for _ in range(max_steps):\n",
    "            predictions = self.predict(x)\n",
    "            gradient = -2 * np.dot(Add_intercept.T, (Y - predictions)) / num_samples\n",
    "            self.w -= alpha * gradient\n",
    "\n",
    "            new_error = self.MSE(x, Y)\n",
    "            step += 1\n",
    "            steps.append(step)\n",
    "            errors.append(new_error)\n",
    "\n",
    "            if new_error < epsilon:\n",
    "                break\n",
    "\n",
    "        return steps, errors"
   ]
  },
  {
   "cell_type": "code",
   "execution_count": 69,
   "id": "e3877b23",
   "metadata": {},
   "outputs": [],
   "source": [
    "n = x.shape[1]\n",
    "regr = MultipleRegression(n)\n",
    "steps, errors = regr.fit(x, Y, alpha = 0.1 ,epsilon = 0.01, max_steps = 2000)"
   ]
  },
  {
   "cell_type": "code",
   "execution_count": 71,
   "id": "388d9471",
   "metadata": {},
   "outputs": [
    {
     "name": "stdout",
     "output_type": "stream",
     "text": [
      "MSE после градиентного спуска:  0.1817944434520831\n"
     ]
    },
    {
     "data": {
      "text/plain": [
       "[<matplotlib.lines.Line2D at 0x1983dea0a60>]"
      ]
     },
     "execution_count": 71,
     "metadata": {},
     "output_type": "execute_result"
    },
    {
     "data": {
      "image/png": "[encoded data removed]",
      "text/plain": [
       "<Figure size 432x288 with 1 Axes>"
      ]
     },
     "metadata": {
      "needs_background": "light"
     },
     "output_type": "display_data"
    }
   ],
   "source": [
    "print(\"MSE после градиентного спуска: \", regr.MSE(x, Y))\n",
    "Y_pred = regr.predict(x)\n",
    "plt.figure()\n",
    "plt.plot(steps, errors)"
   ]
  },
  {
   "cell_type": "code",
   "execution_count": 72,
   "id": "273f2557",
   "metadata": {},
   "outputs": [
    {
     "name": "stdout",
     "output_type": "stream",
     "text": [
      "MAE после градиентного спуска:  0.20801315786540625\n"
     ]
    },
    {
     "data": {
      "text/plain": [
       "[<matplotlib.lines.Line2D at 0x1983de81ac0>]"
      ]
     },
     "execution_count": 72,
     "metadata": {},
     "output_type": "execute_result"
    },
    {
     "data": {
      "image/png": "[encoded data removed]",
      "text/plain": [
       "<Figure size 432x288 with 1 Axes>"
      ]
     },
     "metadata": {
      "needs_background": "light"
     },
     "output_type": "display_data"
    }
   ],
   "source": [
    "print(\"MAE после градиентного спуска: \", regr.MAE(x, Y))\n",
    "Y_pred = regr.predict(x)\n",
    "plt.figure()\n",
    "plt.plot(steps, errors)"
   ]
  },
  {
   "cell_type": "code",
   "execution_count": 73,
   "id": "4d04ca03",
   "metadata": {},
   "outputs": [
    {
     "data": {
      "text/plain": [
       "array([1.23000144, 1.14360769, 1.14859612, ..., 1.14360769, 1.14360769,\n",
       "       1.14360769])"
      ]
     },
     "execution_count": 73,
     "metadata": {},
     "output_type": "execute_result"
    }
   ],
   "source": [
    "regr.predict(x)"
   ]
  },
  {
   "cell_type": "code",
   "execution_count": 61,
   "id": "1d3b8c85",
   "metadata": {},
   "outputs": [
    {
     "data": {
      "text/plain": [
       "0.20799296272751022"
      ]
     },
     "execution_count": 61,
     "metadata": {},
     "output_type": "execute_result"
    }
   ],
   "source": [
    "regr.MAE(x,Y)"
   ]
  },
  {
   "cell_type": "code",
   "execution_count": 62,
   "id": "fdd37209",
   "metadata": {},
   "outputs": [
    {
     "data": {
      "text/plain": [
       "0.18179711224332787"
      ]
     },
     "execution_count": 62,
     "metadata": {},
     "output_type": "execute_result"
    }
   ],
   "source": [
    "regr.MSE(x,Y)"
   ]
  },
  {
   "cell_type": "code",
   "execution_count": 81,
   "id": "ba98fc9d",
   "metadata": {},
   "outputs": [
    {
     "data": {
      "text/plain": [
       "<matplotlib.collections.PathCollection at 0x1983dd3f6d0>"
      ]
     },
     "execution_count": 81,
     "metadata": {},
     "output_type": "execute_result"
    },
    {
     "data": {
      "image/png": "[encoded data removed]",
      "text/plain": [
       "<Figure size 432x288 with 1 Axes>"
      ]
     },
     "metadata": {
      "needs_background": "light"
     },
     "output_type": "display_data"
    }
   ],
   "source": [
    "plt.scatter(Y, Y_pred)"
   ]
  }
 ],
 "metadata": {
  "kernelspec": {
   "display_name": "Python 3 (ipykernel)",
   "language": "python",
   "name": "python3"
  },
  "language_info": {
   "codemirror_mode": {
    "name": "ipython",
    "version": 3
   },
   "file_extension": ".py",
   "mimetype": "text/x-python",
   "name": "python",
   "nbconvert_exporter": "python",
   "pygments_lexer": "ipython3",
   "version": "3.9.12"
  }
 },
 "nbformat": 4,
 "nbformat_minor": 5
}
