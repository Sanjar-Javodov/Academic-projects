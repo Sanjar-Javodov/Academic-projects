{
 "cells": [
  {
   "cell_type": "code",
   "execution_count": 91,
   "id": "846908e6",
   "metadata": {},
   "outputs": [],
   "source": [
    "import numpy as np\n",
    "import pandas as pd\n",
    "import seaborn as sns\n",
    "import matplotlib.pyplot as plt \n",
    "from sklearn.impute import SimpleImputer\n",
    "from sklearn.model_selection import train_test_split\n",
    "import statsmodels.api as sm\n",
    "from statsmodels.discrete.discrete_model import Logit\n",
    "from imblearn.over_sampling import SMOTE\n",
    "from statsmodels.stats.outliers_influence import variance_inflation_factor"
   ]
  },
  {
   "cell_type": "code",
   "execution_count": 3,
   "id": "95507c88",
   "metadata": {},
   "outputs": [],
   "source": [
    "df = pd.read_excel('Семинар 7 Данные для моделирования Логит, Пробит.xlsx')"
   ]
  },
  {
   "cell_type": "code",
   "execution_count": 4,
   "id": "27013940",
   "metadata": {},
   "outputs": [],
   "source": [
    "df_new = df[['Статус','Регион регистрации',\n",
    "              '2017, Рентабельность капитала (ROE), %', \n",
    "              '2018, Рентабельность капитала (ROE), %',\n",
    "              '2019, Рентабельность капитала (ROE), %',\n",
    "              '2020, Рентабельность капитала (ROE), %',\n",
    "              '2017, Рентабельность продаж, %',\n",
    "              '2018, Рентабельность продаж, %',\n",
    "              '2019, Рентабельность продаж, %',\n",
    "              '2020, Рентабельность продаж, %',\n",
    "              '2017, Рентабельность активов (ROA), %',\n",
    "              '2018, Рентабельность активов (ROA), %',\n",
    "              '2019, Рентабельность активов (ROA), %',\n",
    "              '2020, Рентабельность активов (ROA), %',\n",
    "              '2017, Коэффициент обеспеченности собственными оборотными средствами, %',\n",
    "              '2018, Коэффициент обеспеченности собственными оборотными средствами, %',\n",
    "              '2019, Коэффициент обеспеченности собственными оборотными средствами, %',\n",
    "              '2020, Коэффициент обеспеченности собственными оборотными средствами, %',\n",
    "              '2017, Коэффициент текущей ликвидности, %',\n",
    "              '2018, Коэффициент текущей ликвидности, %',\n",
    "              '2019, Коэффициент текущей ликвидности, %',\n",
    "              '2020, Коэффициент текущей ликвидности, %',\n",
    "              '2017, Коэффициент быстрой ликвидности, %',\n",
    "              '2018, Коэффициент быстрой ликвидности, %',\n",
    "              '2019, Коэффициент быстрой ликвидности, %',\n",
    "             '2020, Коэффициент быстрой ликвидности, %',\n",
    "             '2017, Коэффициент абсолютной ликвидности, %',\n",
    "             '2018, Коэффициент абсолютной ликвидности, %',\n",
    "             '2019, Коэффициент абсолютной ликвидности, %',\n",
    "             '2020, Коэффициент абсолютной ликвидности, %',\n",
    "             '2017, Коэффициент оборачиваемости совокупных активов, %',\n",
    "             '2018, Коэффициент оборачиваемости совокупных активов, %',\n",
    "             '2019, Коэффициент оборачиваемости совокупных активов, %',\n",
    "             '2020, Коэффициент оборачиваемости совокупных активов, %',\n",
    "             'Отрасль', 'Округ']]"
   ]
  },
  {
   "cell_type": "code",
   "execution_count": 5,
   "id": "b898da47",
   "metadata": {},
   "outputs": [],
   "source": [
    "df_new = df_new.loc[df_new['Регион регистрации']=='Нижегородская область']\n",
    "df_new.index = [i for i in range(df_new.shape[0]) ]"
   ]
  },
  {
   "cell_type": "code",
   "execution_count": 6,
   "id": "4d1cb215",
   "metadata": {},
   "outputs": [],
   "source": [
    "df_new.drop('Регион регистрации', inplace=True, axis=1)"
   ]
  },
  {
   "cell_type": "code",
   "execution_count": 59,
   "id": "b9c5b53a",
   "metadata": {},
   "outputs": [
    {
     "data": {
      "text/plain": [
       "0    184\n",
       "1      5\n",
       "Name: Статус, dtype: int64"
      ]
     },
     "execution_count": 59,
     "metadata": {},
     "output_type": "execute_result"
    }
   ],
   "source": [
    "df_new['Статус'].value_counts()"
   ]
  },
  {
   "cell_type": "code",
   "execution_count": 8,
   "id": "1c2ac989",
   "metadata": {},
   "outputs": [
    {
     "name": "stderr",
     "output_type": "stream",
     "text": [
      "C:\\Users\\user\\AppData\\Local\\Temp\\ipykernel_11880\\2875032908.py:4: SettingWithCopyWarning: \n",
      "A value is trying to be set on a copy of a slice from a DataFrame\n",
      "\n",
      "See the caveats in the documentation: https://pandas.pydata.org/pandas-docs/stable/user_guide/indexing.html#returning-a-view-versus-a-copy\n",
      "  df_new['Округ'].loc[i] = 0\n"
     ]
    }
   ],
   "source": [
    "#преобразуем категориальные данные\n",
    "for i in range(df_new.shape[0]):\n",
    "    if df_new['Округ'].loc[i] == 'Приволжский ФО':\n",
    "        df_new['Округ'].loc[i] = 0\n",
    "    elif df_new['Округ'].loc[i] == 'Центральный ФО':\n",
    "        df_new['Округ'].loc[i] = 1\n",
    "    elif df_new['Округ'].loc[i] == 'Сибирский ФО':\n",
    "        df_new['Округ'].loc[i] = 2  \n",
    "    elif df_new['Округ'].loc[i] == 'Северно-Западный ФО':\n",
    "        df_new['Округ'].loc[i] = 3  \n",
    "    elif df_new['Округ'].loc[i] == 'Уральский ФО':\n",
    "        df_new['Округ'].loc[i] = 4  \n",
    "    else:\n",
    "        df_new['Округ'].loc[i] = 5"
   ]
  },
  {
   "cell_type": "code",
   "execution_count": 9,
   "id": "ea48d0e2",
   "metadata": {},
   "outputs": [
    {
     "name": "stderr",
     "output_type": "stream",
     "text": [
      "C:\\Users\\user\\AppData\\Local\\Temp\\ipykernel_11880\\3068095241.py:5: SettingWithCopyWarning: \n",
      "A value is trying to be set on a copy of a slice from a DataFrame\n",
      "\n",
      "See the caveats in the documentation: https://pandas.pydata.org/pandas-docs/stable/user_guide/indexing.html#returning-a-view-versus-a-copy\n",
      "  df_new['Отрасль'][i] = 1\n",
      "C:\\Users\\user\\AppData\\Local\\Temp\\ipykernel_11880\\3068095241.py:7: SettingWithCopyWarning: \n",
      "A value is trying to be set on a copy of a slice from a DataFrame\n",
      "\n",
      "See the caveats in the documentation: https://pandas.pydata.org/pandas-docs/stable/user_guide/indexing.html#returning-a-view-versus-a-copy\n",
      "  df_new['Отрасль'][i] = 2\n",
      "C:\\Users\\user\\AppData\\Local\\Temp\\ipykernel_11880\\3068095241.py:3: SettingWithCopyWarning: \n",
      "A value is trying to be set on a copy of a slice from a DataFrame\n",
      "\n",
      "See the caveats in the documentation: https://pandas.pydata.org/pandas-docs/stable/user_guide/indexing.html#returning-a-view-versus-a-copy\n",
      "  df_new['Отрасль'][i] = 0\n"
     ]
    }
   ],
   "source": [
    "for i in range(df_new.shape[0]):\n",
    "    if df_new['Отрасль'].loc[i] == 'Животноводство':\n",
    "        df_new['Отрасль'][i] = 0\n",
    "    elif df_new['Отрасль'].loc[i] == 'Растениеводство':\n",
    "        df_new['Отрасль'][i] = 1\n",
    "    else:\n",
    "        df_new['Отрасль'][i] = 2"
   ]
  },
  {
   "cell_type": "code",
   "execution_count": 10,
   "id": "494730dd",
   "metadata": {},
   "outputs": [
    {
     "data": {
      "text/plain": [
       "Статус                                                                     0\n",
       "2017, Рентабельность капитала (ROE), %                                    13\n",
       "2018, Рентабельность капитала (ROE), %                                    15\n",
       "2019, Рентабельность капитала (ROE), %                                     3\n",
       "2020, Рентабельность капитала (ROE), %                                     1\n",
       "2017, Рентабельность продаж, %                                             9\n",
       "2018, Рентабельность продаж, %                                             3\n",
       "2019, Рентабельность продаж, %                                             1\n",
       "2020, Рентабельность продаж, %                                             0\n",
       "2017, Рентабельность активов (ROA), %                                     13\n",
       "2018, Рентабельность активов (ROA), %                                     16\n",
       "2019, Рентабельность активов (ROA), %                                      3\n",
       "2020, Рентабельность активов (ROA), %                                      1\n",
       "2017, Коэффициент обеспеченности собственными оборотными средствами, %     6\n",
       "2018, Коэффициент обеспеченности собственными оборотными средствами, %     1\n",
       "2019, Коэффициент обеспеченности собственными оборотными средствами, %     1\n",
       "2020, Коэффициент обеспеченности собственными оборотными средствами, %     1\n",
       "2017, Коэффициент текущей ликвидности, %                                  10\n",
       "2018, Коэффициент текущей ликвидности, %                                   3\n",
       "2019, Коэффициент текущей ликвидности, %                                   4\n",
       "2020, Коэффициент текущей ликвидности, %                                   5\n",
       "2017, Коэффициент быстрой ликвидности, %                                  10\n",
       "2018, Коэффициент быстрой ликвидности, %                                   5\n",
       "2019, Коэффициент быстрой ликвидности, %                                   6\n",
       "2020, Коэффициент быстрой ликвидности, %                                   7\n",
       "2017, Коэффициент абсолютной ликвидности, %                               20\n",
       "2018, Коэффициент абсолютной ликвидности, %                               10\n",
       "2019, Коэффициент абсолютной ликвидности, %                               10\n",
       "2020, Коэффициент абсолютной ликвидности, %                               14\n",
       "2017, Коэффициент оборачиваемости совокупных активов, %                   13\n",
       "2018, Коэффициент оборачиваемости совокупных активов, %                   14\n",
       "2019, Коэффициент оборачиваемости совокупных активов, %                    3\n",
       "2020, Коэффициент оборачиваемости совокупных активов, %                    1\n",
       "Отрасль                                                                    0\n",
       "Округ                                                                      0\n",
       "dtype: int64"
      ]
     },
     "execution_count": 10,
     "metadata": {},
     "output_type": "execute_result"
    }
   ],
   "source": [
    "df_new.isna().sum()"
   ]
  },
  {
   "cell_type": "code",
   "execution_count": 11,
   "id": "50560441",
   "metadata": {},
   "outputs": [
    {
     "name": "stderr",
     "output_type": "stream",
     "text": [
      "C:\\Users\\user\\anaconda3\\lib\\site-packages\\sklearn\\base.py:450: UserWarning: X does not have valid feature names, but SimpleImputer was fitted with feature names\n",
      "  warnings.warn(\n"
     ]
    },
    {
     "data": {
      "text/plain": [
       "array([[ 0.,  0.,  0., ...,  1.,  1.,  0.],\n",
       "       [ 0.,  0.,  0., ...,  1.,  1.,  0.],\n",
       "       [ 0.,  0.,  0., ...,  1.,  2.,  0.],\n",
       "       ...,\n",
       "       [ 0.,  0., -0., ...,  0.,  1.,  0.],\n",
       "       [ 0.,  0.,  0., ...,  1.,  0.,  0.],\n",
       "       [ 0.,  0.,  0., ...,  1.,  2.,  0.]])"
      ]
     },
     "execution_count": 11,
     "metadata": {},
     "output_type": "execute_result"
    }
   ],
   "source": [
    "#Заменим пропущенные значения на среднее \n",
    "mean_imputer = SimpleImputer(missing_values=np.nan, strategy='mean')\n",
    "\n",
    "# Поместим вмененное значение в набор данных\n",
    "mean_imputer = mean_imputer.fit(df_new)\n",
    "\n",
    "results = mean_imputer.transform(df_new.values)\n",
    "results.round()"
   ]
  },
  {
   "cell_type": "code",
   "execution_count": 12,
   "id": "0e041ce6",
   "metadata": {},
   "outputs": [],
   "source": [
    "df_ = pd.DataFrame(results, columns=['Статус',\n",
    "              '2017, Рентабельность капитала (ROE), %', \n",
    "              '2018, Рентабельность капитала (ROE), %',\n",
    "              '2019, Рентабельность капитала (ROE), %',\n",
    "              '2020, Рентабельность капитала (ROE), %',\n",
    "              '2017, Рентабельность продаж, %',\n",
    "              '2018, Рентабельность продаж, %',\n",
    "              '2019, Рентабельность продаж, %',\n",
    "              '2020, Рентабельность продаж, %',\n",
    "              '2017, Рентабельность активов (ROA), %',\n",
    "              '2018, Рентабельность активов (ROA), %',\n",
    "              '2019, Рентабельность активов (ROA), %',\n",
    "              '2020, Рентабельность активов (ROA), %',\n",
    "              '2017, Коэффициент обеспеченности собственными оборотными средствами, %',\n",
    "              '2018, Коэффициент обеспеченности собственными оборотными средствами, %',\n",
    "              '2019, Коэффициент обеспеченности собственными оборотными средствами, %',\n",
    "              '2020, Коэффициент обеспеченности собственными оборотными средствами, %',\n",
    "              '2017, Коэффициент текущей ликвидности, %',\n",
    "              '2018, Коэффициент текущей ликвидности, %',\n",
    "              '2019, Коэффициент текущей ликвидности, %',\n",
    "              '2020, Коэффициент текущей ликвидности, %',\n",
    "              '2017, Коэффициент быстрой ликвидности, %',\n",
    "              '2018, Коэффициент быстрой ликвидности, %',\n",
    "              '2019, Коэффициент быстрой ликвидности, %',\n",
    "             '2020, Коэффициент быстрой ликвидности, %',\n",
    "             '2017, Коэффициент абсолютной ликвидности, %',\n",
    "             '2018, Коэффициент абсолютной ликвидности, %',\n",
    "             '2019, Коэффициент абсолютной ликвидности, %',\n",
    "             '2020, Коэффициент абсолютной ликвидности, %',\n",
    "             '2017, Коэффициент оборачиваемости совокупных активов, %',\n",
    "             '2018, Коэффициент оборачиваемости совокупных активов, %',\n",
    "             '2019, Коэффициент оборачиваемости совокупных активов, %',\n",
    "             '2020, Коэффициент оборачиваемости совокупных активов, %',\n",
    "             'Отрасль', 'Округ'])"
   ]
  },
  {
   "cell_type": "code",
   "execution_count": 13,
   "id": "fe34bd9d",
   "metadata": {},
   "outputs": [
    {
     "data": {
      "text/plain": [
       "Статус                                                                    0\n",
       "2017, Рентабельность капитала (ROE), %                                    0\n",
       "2018, Рентабельность капитала (ROE), %                                    0\n",
       "2019, Рентабельность капитала (ROE), %                                    0\n",
       "2020, Рентабельность капитала (ROE), %                                    0\n",
       "2017, Рентабельность продаж, %                                            0\n",
       "2018, Рентабельность продаж, %                                            0\n",
       "2019, Рентабельность продаж, %                                            0\n",
       "2020, Рентабельность продаж, %                                            0\n",
       "2017, Рентабельность активов (ROA), %                                     0\n",
       "2018, Рентабельность активов (ROA), %                                     0\n",
       "2019, Рентабельность активов (ROA), %                                     0\n",
       "2020, Рентабельность активов (ROA), %                                     0\n",
       "2017, Коэффициент обеспеченности собственными оборотными средствами, %    0\n",
       "2018, Коэффициент обеспеченности собственными оборотными средствами, %    0\n",
       "2019, Коэффициент обеспеченности собственными оборотными средствами, %    0\n",
       "2020, Коэффициент обеспеченности собственными оборотными средствами, %    0\n",
       "2017, Коэффициент текущей ликвидности, %                                  0\n",
       "2018, Коэффициент текущей ликвидности, %                                  0\n",
       "2019, Коэффициент текущей ликвидности, %                                  0\n",
       "2020, Коэффициент текущей ликвидности, %                                  0\n",
       "2017, Коэффициент быстрой ликвидности, %                                  0\n",
       "2018, Коэффициент быстрой ликвидности, %                                  0\n",
       "2019, Коэффициент быстрой ликвидности, %                                  0\n",
       "2020, Коэффициент быстрой ликвидности, %                                  0\n",
       "2017, Коэффициент абсолютной ликвидности, %                               0\n",
       "2018, Коэффициент абсолютной ликвидности, %                               0\n",
       "2019, Коэффициент абсолютной ликвидности, %                               0\n",
       "2020, Коэффициент абсолютной ликвидности, %                               0\n",
       "2017, Коэффициент оборачиваемости совокупных активов, %                   0\n",
       "2018, Коэффициент оборачиваемости совокупных активов, %                   0\n",
       "2019, Коэффициент оборачиваемости совокупных активов, %                   0\n",
       "2020, Коэффициент оборачиваемости совокупных активов, %                   0\n",
       "Отрасль                                                                   0\n",
       "Округ                                                                     0\n",
       "dtype: int64"
      ]
     },
     "execution_count": 13,
     "metadata": {},
     "output_type": "execute_result"
    }
   ],
   "source": [
    "df_.isna().sum()"
   ]
  },
  {
   "cell_type": "code",
   "execution_count": 15,
   "id": "7f7abfa1",
   "metadata": {},
   "outputs": [
    {
     "name": "stdout",
     "output_type": "stream",
     "text": [
      "length of oversampled data is  258\n",
      "Number of no subscription in oversampled data 129\n",
      "Number of subscription 129\n",
      "Proportion of no subscription data in oversampled data is  0.5\n",
      "Proportion of subscription data in oversampled data is  0.5\n"
     ]
    }
   ],
   "source": [
    "X = df_.loc[:, df_.columns != 'Статус']\n",
    "y = df_.loc[:, df_.columns == 'Статус']\n",
    "\n",
    "from imblearn.over_sampling import SMOTE\n",
    "os = SMOTE(k_neighbors = 2)\n",
    "X_train, X_test, y_train, y_test = train_test_split(X, y, test_size=0.3, random_state=0)\n",
    "columns = X_train.columns\n",
    "os_data_X,os_data_y=os.fit_resample(X_train, y_train)\n",
    "os_data_X = pd.DataFrame(data=os_data_X,columns=columns )\n",
    "os_data_y= pd.DataFrame(data=os_data_y,columns=['Статус'])\n",
    "\n",
    "# we can Check the numbers of our data\n",
    "print(\"length of oversampled data is \",len(os_data_X))\n",
    "print(\"Number of no subscription in oversampled data\",len(os_data_y[os_data_y['Статус']==0]))\n",
    "print(\"Number of subscription\",len(os_data_y[os_data_y['Статус']==1]))\n",
    "print(\"Proportion of no subscription data in oversampled data is \",len(os_data_y[os_data_y['Статус']==0])/len(os_data_X))\n",
    "print(\"Proportion of subscription data in oversampled data is \",len(os_data_y[os_data_y['Статус']==1])/len(os_data_X))"
   ]
  },
  {
   "cell_type": "code",
   "execution_count": 16,
   "id": "abfb2a5a",
   "metadata": {},
   "outputs": [
    {
     "name": "stdout",
     "output_type": "stream",
     "text": [
      "[ True  True  True  True False False False  True  True False False  True\n",
      " False  True  True False  True  True  True False False  True False False\n",
      " False False False False False  True  True  True  True False]\n",
      "[ 1  1  1  1  3 14 17  1  1  9 11  1  6  1  1  8  1  1  1 13  4  1 15  2\n",
      " 12  5 16 10  7  1  1  1  1 18]\n"
     ]
    }
   ],
   "source": [
    "data_final_vars=df_.columns.values.tolist()\n",
    "y=['Статус']\n",
    "X=[i for i in data_final_vars if i not in y]\n",
    "\n",
    "from sklearn.feature_selection import RFE\n",
    "from sklearn.linear_model import LogisticRegression\n",
    "\n",
    "logreg = LogisticRegression()\n",
    "rfe = RFE(logreg)\n",
    "rfe = rfe.fit(os_data_X, os_data_y.values.ravel())\n",
    "print(rfe.support_)\n",
    "print(rfe.ranking_)"
   ]
  },
  {
   "cell_type": "code",
   "execution_count": 17,
   "id": "dd552d0b",
   "metadata": {},
   "outputs": [],
   "source": [
    "val  = [ True,  True,  True,  True, False, False, False,  True,  True, False, False,  True,\n",
    " False,  True,  True, False,  True,  True,  True, False, False,  True, False, False,\n",
    " False, False, False, False, False,  True,  True,  True , True, False]\n",
    "res = [i for i, x in enumerate(val) if x]"
   ]
  },
  {
   "cell_type": "code",
   "execution_count": 35,
   "id": "c9f282e2",
   "metadata": {},
   "outputs": [
    {
     "data": {
      "text/plain": [
       "['2017, Рентабельность капитала (ROE), %',\n",
       " '2018, Рентабельность капитала (ROE), %',\n",
       " '2019, Рентабельность капитала (ROE), %',\n",
       " '2020, Рентабельность капитала (ROE), %',\n",
       " '2020, Рентабельность продаж, %',\n",
       " '2017, Рентабельность активов (ROA), %',\n",
       " '2020, Рентабельность активов (ROA), %',\n",
       " '2018, Коэффициент обеспеченности собственными оборотными средствами, %',\n",
       " '2019, Коэффициент обеспеченности собственными оборотными средствами, %',\n",
       " '2017, Коэффициент текущей ликвидности, %',\n",
       " '2018, Коэффициент текущей ликвидности, %',\n",
       " '2019, Коэффициент текущей ликвидности, %',\n",
       " '2018, Коэффициент быстрой ликвидности, %',\n",
       " '2018, Коэффициент оборачиваемости совокупных активов, %',\n",
       " '2019, Коэффициент оборачиваемости совокупных активов, %',\n",
       " '2020, Коэффициент оборачиваемости совокупных активов, %',\n",
       " 'Отрасль']"
      ]
     },
     "execution_count": 35,
     "metadata": {},
     "output_type": "execute_result"
    }
   ],
   "source": [
    "[list(os_data_X.columns.values)[i] for i in res]"
   ]
  },
  {
   "cell_type": "code",
   "execution_count": 37,
   "id": "7e4fa9a7",
   "metadata": {},
   "outputs": [],
   "source": [
    "d = os_data_X.drop(['2017, Рентабельность продаж, %',\n",
    "                '2018, Рентабельность продаж, %',\n",
    "                '2019, Рентабельность продаж, %',\n",
    "                '2020, Рентабельность продаж, %',\n",
    "               '2017, Коэффициент быстрой ликвидности, %',\n",
    "               '2018, Коэффициент быстрой ликвидности, %',\n",
    "               '2019, Коэффициент быстрой ликвидности, %',\n",
    "               '2020, Коэффициент быстрой ликвидности, %',\n",
    "               'Округ'],  axis=1)\n",
    "\n",
    "y = os_data_y['Статус']"
   ]
  },
  {
   "cell_type": "code",
   "execution_count": 41,
   "id": "d2197a95",
   "metadata": {},
   "outputs": [],
   "source": [
    "d['Статус'] = y"
   ]
  },
  {
   "cell_type": "code",
   "execution_count": 43,
   "id": "dd9efe0c",
   "metadata": {},
   "outputs": [],
   "source": [
    "df_2017 = pd.DataFrame()\n",
    "df_2018 = pd.DataFrame()\n",
    "df_2019 = pd.DataFrame()\n",
    "df_2020 = pd.DataFrame()\n",
    "for i in d.columns:\n",
    "    if '2017' in i:\n",
    "        df_2017[i] = df_[i]\n",
    "    if 'Статус' in i:\n",
    "        df_2017[i] = df_[i] \n",
    "    if 'Отрасль' in i:\n",
    "        df_2017[i] = df_[i]\n",
    "    if 'Округ' in i:\n",
    "        df_2017[i] = df_[i]\n",
    "    if '2018' in i:\n",
    "        df_2018[i] = df_[i]\n",
    "    if 'Статус' in i:\n",
    "        df_2018[i] = df_[i]\n",
    "    if 'Отрасль' in i:\n",
    "        df_2018[i] = df_[i]\n",
    "    if 'Округ' in i:\n",
    "        df_2018[i] = df_[i]\n",
    "    if '2019' in i:\n",
    "        df_2019[i] = df_[i]\n",
    "    if 'Статус' in i:\n",
    "        df_2019[i] = df_[i]\n",
    "    if 'Отрасль' in i:\n",
    "        df_2019[i] = df_[i]\n",
    "    if 'Округ' in i:\n",
    "        df_2019[i] = df_[i]\n",
    "    if '2020' in i:\n",
    "        df_2020[i] = df_[i]\n",
    "    if 'Статус' in i:\n",
    "        df_2020[i] = df_[i]\n",
    "    if 'Отрасль' in i:\n",
    "        df_2020[i] = df_[i]\n",
    "    if 'Округ' in i:\n",
    "        df_2020[i] = df_[i]"
   ]
  },
  {
   "cell_type": "code",
   "execution_count": 52,
   "id": "401ebe60",
   "metadata": {},
   "outputs": [],
   "source": [
    "from statsmodels.stats.outliers_influence import variance_inflation_factor"
   ]
  },
  {
   "cell_type": "code",
   "execution_count": 92,
   "id": "864a38e8",
   "metadata": {},
   "outputs": [
    {
     "data": {
      "text/html": [
       "<div>\n",
       "<style scoped>\n",
       "    .dataframe tbody tr th:only-of-type {\n",
       "        vertical-align: middle;\n",
       "    }\n",
       "\n",
       "    .dataframe tbody tr th {\n",
       "        vertical-align: top;\n",
       "    }\n",
       "\n",
       "    .dataframe thead th {\n",
       "        text-align: right;\n",
       "    }\n",
       "</style>\n",
       "<table border=\"1\" class=\"dataframe\">\n",
       "  <thead>\n",
       "    <tr style=\"text-align: right;\">\n",
       "      <th></th>\n",
       "      <th>VIF</th>\n",
       "      <th>variable</th>\n",
       "    </tr>\n",
       "  </thead>\n",
       "  <tbody>\n",
       "    <tr>\n",
       "      <th>0</th>\n",
       "      <td>1.037305</td>\n",
       "      <td>2018, Рентабельность капитала (ROE), %</td>\n",
       "    </tr>\n",
       "    <tr>\n",
       "      <th>1</th>\n",
       "      <td>1.672549</td>\n",
       "      <td>2018, Рентабельность активов (ROA), %</td>\n",
       "    </tr>\n",
       "    <tr>\n",
       "      <th>2</th>\n",
       "      <td>1.324127</td>\n",
       "      <td>2018, Коэффициент обеспеченности собственными ...</td>\n",
       "    </tr>\n",
       "    <tr>\n",
       "      <th>3</th>\n",
       "      <td>76.997852</td>\n",
       "      <td>2018, Коэффициент текущей ликвидности, %</td>\n",
       "    </tr>\n",
       "    <tr>\n",
       "      <th>4</th>\n",
       "      <td>76.516894</td>\n",
       "      <td>2018, Коэффициент абсолютной ликвидности, %</td>\n",
       "    </tr>\n",
       "    <tr>\n",
       "      <th>5</th>\n",
       "      <td>1.865648</td>\n",
       "      <td>2018, Коэффициент оборачиваемости совокупных а...</td>\n",
       "    </tr>\n",
       "    <tr>\n",
       "      <th>6</th>\n",
       "      <td>1.518990</td>\n",
       "      <td>Отрасль</td>\n",
       "    </tr>\n",
       "  </tbody>\n",
       "</table>\n",
       "</div>"
      ],
      "text/plain": [
       "         VIF                                           variable\n",
       "0   1.037305             2018, Рентабельность капитала (ROE), %\n",
       "1   1.672549              2018, Рентабельность активов (ROA), %\n",
       "2   1.324127  2018, Коэффициент обеспеченности собственными ...\n",
       "3  76.997852           2018, Коэффициент текущей ликвидности, %\n",
       "4  76.516894        2018, Коэффициент абсолютной ликвидности, %\n",
       "5   1.865648  2018, Коэффициент оборачиваемости совокупных а...\n",
       "6   1.518990                                            Отрасль"
      ]
     },
     "execution_count": 92,
     "metadata": {},
     "output_type": "execute_result"
    }
   ],
   "source": [
    "vif = pd.DataFrame()\n",
    "vif['VIF'] = [variance_inflation_factor(X_train.values, i) for i in range(X_train.shape[1])]\n",
    "vif['variable'] = X_train.columns\n",
    "\n",
    "#view VIF for each explanatory variable \n",
    "vif"
   ]
  },
  {
   "cell_type": "code",
   "execution_count": 95,
   "id": "fa6cf645",
   "metadata": {},
   "outputs": [
    {
     "name": "stdout",
     "output_type": "stream",
     "text": [
      "Optimization terminated successfully.\n",
      "         Current function value: 0.049681\n",
      "         Iterations 16\n"
     ]
    },
    {
     "name": "stderr",
     "output_type": "stream",
     "text": [
      "C:\\Users\\user\\anaconda3\\lib\\site-packages\\statsmodels\\discrete\\discrete_model.py:1819: RuntimeWarning: overflow encountered in exp\n",
      "  return 1/(1+np.exp(-X))\n",
      "C:\\Users\\user\\anaconda3\\lib\\site-packages\\statsmodels\\discrete\\discrete_model.py:1819: RuntimeWarning: overflow encountered in exp\n",
      "  return 1/(1+np.exp(-X))\n"
     ]
    },
    {
     "data": {
      "text/html": [
       "<table class=\"simpletable\">\n",
       "<caption>Logit Regression Results</caption>\n",
       "<tr>\n",
       "  <th>Dep. Variable:</th>        <td>Статус</td>      <th>  No. Observations:  </th>  <td>   132</td> \n",
       "</tr>\n",
       "<tr>\n",
       "  <th>Model:</th>                 <td>Logit</td>      <th>  Df Residuals:      </th>  <td>   124</td> \n",
       "</tr>\n",
       "<tr>\n",
       "  <th>Method:</th>                 <td>MLE</td>       <th>  Df Model:          </th>  <td>     7</td> \n",
       "</tr>\n",
       "<tr>\n",
       "  <th>Date:</th>            <td>Sat, 11 Mar 2023</td> <th>  Pseudo R-squ.:     </th>  <td>0.5420</td> \n",
       "</tr>\n",
       "<tr>\n",
       "  <th>Time:</th>                <td>23:26:05</td>     <th>  Log-Likelihood:    </th> <td> -6.5579</td>\n",
       "</tr>\n",
       "<tr>\n",
       "  <th>converged:</th>             <td>True</td>       <th>  LL-Null:           </th> <td> -14.318</td>\n",
       "</tr>\n",
       "<tr>\n",
       "  <th>Covariance Type:</th>     <td>nonrobust</td>    <th>  LLR p-value:       </th>  <td>0.02988</td>\n",
       "</tr>\n",
       "</table>\n",
       "<table class=\"simpletable\">\n",
       "<tr>\n",
       "                                     <td></td>                                       <th>coef</th>     <th>std err</th>      <th>z</th>      <th>P>|z|</th>  <th>[0.025</th>    <th>0.975]</th>  \n",
       "</tr>\n",
       "<tr>\n",
       "  <th>const</th>                                                                  <td>    4.2876</td> <td>    3.405</td> <td>    1.259</td> <td> 0.208</td> <td>   -2.387</td> <td>   10.962</td>\n",
       "</tr>\n",
       "<tr>\n",
       "  <th>2017, Рентабельность капитала (ROE), %</th>                                 <td>   -1.2258</td> <td>    1.790</td> <td>   -0.685</td> <td> 0.493</td> <td>   -4.734</td> <td>    2.282</td>\n",
       "</tr>\n",
       "<tr>\n",
       "  <th>2017, Рентабельность активов (ROA), %</th>                                  <td>   10.9014</td> <td>   15.004</td> <td>    0.727</td> <td> 0.467</td> <td>  -18.506</td> <td>   40.309</td>\n",
       "</tr>\n",
       "<tr>\n",
       "  <th>2017, Коэффициент обеспеченности собственными оборотными средствами, %</th> <td>   -0.1607</td> <td>    0.636</td> <td>   -0.253</td> <td> 0.801</td> <td>   -1.407</td> <td>    1.086</td>\n",
       "</tr>\n",
       "<tr>\n",
       "  <th>2017, Коэффициент текущей ликвидности, %</th>                               <td>   -6.7084</td> <td>    3.465</td> <td>   -1.936</td> <td> 0.053</td> <td>  -13.500</td> <td>    0.083</td>\n",
       "</tr>\n",
       "<tr>\n",
       "  <th>2017, Коэффициент абсолютной ликвидности, %</th>                            <td>   15.6557</td> <td>   10.860</td> <td>    1.442</td> <td> 0.149</td> <td>   -5.629</td> <td>   36.940</td>\n",
       "</tr>\n",
       "<tr>\n",
       "  <th>2017, Коэффициент оборачиваемости совокупных активов, %</th>                <td>   -2.6788</td> <td>    3.187</td> <td>   -0.840</td> <td> 0.401</td> <td>   -8.926</td> <td>    3.568</td>\n",
       "</tr>\n",
       "<tr>\n",
       "  <th>Отрасль</th>                                                                <td>   -3.1555</td> <td>    2.576</td> <td>   -1.225</td> <td> 0.221</td> <td>   -8.204</td> <td>    1.893</td>\n",
       "</tr>\n",
       "</table><br/><br/>Possibly complete quasi-separation: A fraction 0.70 of observations can be<br/>perfectly predicted. This might indicate that there is complete<br/>quasi-separation. In this case some parameters will not be identified."
      ],
      "text/plain": [
       "<class 'statsmodels.iolib.summary.Summary'>\n",
       "\"\"\"\n",
       "                           Logit Regression Results                           \n",
       "==============================================================================\n",
       "Dep. Variable:                 Статус   No. Observations:                  132\n",
       "Model:                          Logit   Df Residuals:                      124\n",
       "Method:                           MLE   Df Model:                            7\n",
       "Date:                Sat, 11 Mar 2023   Pseudo R-squ.:                  0.5420\n",
       "Time:                        23:26:05   Log-Likelihood:                -6.5579\n",
       "converged:                       True   LL-Null:                       -14.318\n",
       "Covariance Type:            nonrobust   LLR p-value:                   0.02988\n",
       "==========================================================================================================================================\n",
       "                                                                             coef    std err          z      P>|z|      [0.025      0.975]\n",
       "------------------------------------------------------------------------------------------------------------------------------------------\n",
       "const                                                                      4.2876      3.405      1.259      0.208      -2.387      10.962\n",
       "2017, Рентабельность капитала (ROE), %                                    -1.2258      1.790     -0.685      0.493      -4.734       2.282\n",
       "2017, Рентабельность активов (ROA), %                                     10.9014     15.004      0.727      0.467     -18.506      40.309\n",
       "2017, Коэффициент обеспеченности собственными оборотными средствами, %    -0.1607      0.636     -0.253      0.801      -1.407       1.086\n",
       "2017, Коэффициент текущей ликвидности, %                                  -6.7084      3.465     -1.936      0.053     -13.500       0.083\n",
       "2017, Коэффициент абсолютной ликвидности, %                               15.6557     10.860      1.442      0.149      -5.629      36.940\n",
       "2017, Коэффициент оборачиваемости совокупных активов, %                   -2.6788      3.187     -0.840      0.401      -8.926       3.568\n",
       "Отрасль                                                                   -3.1555      2.576     -1.225      0.221      -8.204       1.893\n",
       "==========================================================================================================================================\n",
       "\n",
       "Possibly complete quasi-separation: A fraction 0.70 of observations can be\n",
       "perfectly predicted. This might indicate that there is complete\n",
       "quasi-separation. In this case some parameters will not be identified.\n",
       "\"\"\""
      ]
     },
     "execution_count": 95,
     "metadata": {},
     "output_type": "execute_result"
    }
   ],
   "source": [
    "X_train, X_test, Y_train, Y_test = train_test_split(df_2017.drop(['Статус'], axis= 1),df_2017['Статус'], test_size=0.3, random_state=0)\n",
    "X = sm.tools.tools.add_constant(X_train)\n",
    "model = Logit(Y_train, X.astype(float))\n",
    "logit_model = model.fit()\n",
    "logit_model.summary()"
   ]
  },
  {
   "cell_type": "code",
   "execution_count": 81,
   "id": "386374dc",
   "metadata": {},
   "outputs": [
    {
     "data": {
      "text/plain": [
       "LogisticRegression()"
      ]
     },
     "execution_count": 81,
     "metadata": {},
     "output_type": "execute_result"
    }
   ],
   "source": [
    "from sklearn.linear_model import LogisticRegression\n",
    "from sklearn import metrics\n",
    "X_train, X_test, y_train, y_test = train_test_split(df_2018.drop(['Статус'], axis= 1), df_2018['Статус'], test_size=0.3, random_state=0)\n",
    "logreg = LogisticRegression()\n",
    "logreg.fit(X_train, y_train)\n"
   ]
  },
  {
   "cell_type": "code",
   "execution_count": 82,
   "id": "5841e28d",
   "metadata": {},
   "outputs": [
    {
     "name": "stdout",
     "output_type": "stream",
     "text": [
      "Accuracy of logistic regression classifier on test set: 0.96\n"
     ]
    }
   ],
   "source": [
    "y_pred = logreg.predict(X_test)\n",
    "print('Accuracy of logistic regression classifier on test set: {:.2f}'.format(logreg.score(X_test, y_test)))"
   ]
  },
  {
   "cell_type": "code",
   "execution_count": 83,
   "id": "eaca9e3c",
   "metadata": {},
   "outputs": [
    {
     "name": "stdout",
     "output_type": "stream",
     "text": [
      "[[55  0]\n",
      " [ 2  0]]\n"
     ]
    }
   ],
   "source": [
    "from sklearn.metrics import confusion_matrix\n",
    "confusion_matrix = confusion_matrix(y_test, y_pred)\n",
    "print(confusion_matrix)"
   ]
  },
  {
   "cell_type": "code",
   "execution_count": 84,
   "id": "837d10d2",
   "metadata": {},
   "outputs": [
    {
     "name": "stdout",
     "output_type": "stream",
     "text": [
      "              precision    recall  f1-score   support\n",
      "\n",
      "         0.0       0.96      1.00      0.98        55\n",
      "         1.0       0.00      0.00      0.00         2\n",
      "\n",
      "    accuracy                           0.96        57\n",
      "   macro avg       0.48      0.50      0.49        57\n",
      "weighted avg       0.93      0.96      0.95        57\n",
      "\n"
     ]
    },
    {
     "name": "stderr",
     "output_type": "stream",
     "text": [
      "C:\\Users\\user\\anaconda3\\lib\\site-packages\\sklearn\\metrics\\_classification.py:1318: UndefinedMetricWarning: Precision and F-score are ill-defined and being set to 0.0 in labels with no predicted samples. Use `zero_division` parameter to control this behavior.\n",
      "  _warn_prf(average, modifier, msg_start, len(result))\n",
      "C:\\Users\\user\\anaconda3\\lib\\site-packages\\sklearn\\metrics\\_classification.py:1318: UndefinedMetricWarning: Precision and F-score are ill-defined and being set to 0.0 in labels with no predicted samples. Use `zero_division` parameter to control this behavior.\n",
      "  _warn_prf(average, modifier, msg_start, len(result))\n",
      "C:\\Users\\user\\anaconda3\\lib\\site-packages\\sklearn\\metrics\\_classification.py:1318: UndefinedMetricWarning: Precision and F-score are ill-defined and being set to 0.0 in labels with no predicted samples. Use `zero_division` parameter to control this behavior.\n",
      "  _warn_prf(average, modifier, msg_start, len(result))\n"
     ]
    }
   ],
   "source": [
    "from sklearn.metrics import classification_report\n",
    "print(classification_report(y_test, y_pred))"
   ]
  },
  {
   "cell_type": "code",
   "execution_count": 85,
   "id": "8f4a493d",
   "metadata": {},
   "outputs": [
    {
     "data": {
      "image/png": "[encoded data removed]",
      "text/plain": [
       "<Figure size 432x288 with 1 Axes>"
      ]
     },
     "metadata": {
      "needs_background": "light"
     },
     "output_type": "display_data"
    }
   ],
   "source": [
    "from sklearn.metrics import roc_auc_score\n",
    "from sklearn.metrics import roc_curve\n",
    "logit_roc_auc = roc_auc_score(y_test, logreg.predict(X_test))\n",
    "fpr, tpr, thresholds = roc_curve(y_test, logreg.predict_proba(X_test)[:,1])\n",
    "plt.figure()\n",
    "plt.plot(fpr, tpr, label='Logistic Regression (area = %0.2f)' % logit_roc_auc)\n",
    "plt.plot([0, 1], [0, 1],'r--')\n",
    "plt.xlim([0.0, 1.0])\n",
    "plt.ylim([0.0, 1.05])\n",
    "plt.xlabel('False Positive Rate')\n",
    "plt.ylabel('True Positive Rate')\n",
    "plt.title('Receiver operating characteristic')\n",
    "plt.legend(loc=\"lower right\")\n",
    "plt.savefig('Log_ROC')\n",
    "plt.show()"
   ]
  },
  {
   "cell_type": "code",
   "execution_count": 201,
   "id": "7d005f89",
   "metadata": {},
   "outputs": [],
   "source": [
    "pred_test = logit_model.predict(np.array(np.hstack((np.ones([X_test.shape[0],1]),X_test))).astype(float)).reshape(-1,1)"
   ]
  },
  {
   "cell_type": "code",
   "execution_count": 202,
   "id": "37f0c28c",
   "metadata": {},
   "outputs": [
    {
     "data": {
      "text/plain": [
       "array([[3.17297377e-013],\n",
       "       [1.75007106e-002],\n",
       "       [9.61521457e-005],\n",
       "       [4.45625702e-011],\n",
       "       [1.09905390e-004],\n",
       "       [3.92121783e-026],\n",
       "       [9.88498079e-011],\n",
       "       [3.25063828e-044],\n",
       "       [4.41815231e-013],\n",
       "       [1.08136101e-004],\n",
       "       [4.14668187e-035],\n",
       "       [1.01506024e-025],\n",
       "       [8.87171542e-010],\n",
       "       [1.11769488e-006],\n",
       "       [8.13128981e-007],\n",
       "       [1.00536698e-005],\n",
       "       [9.15674165e-127],\n",
       "       [5.84756731e-003],\n",
       "       [1.26206312e-002],\n",
       "       [4.06196992e-004],\n",
       "       [4.89693047e-086],\n",
       "       [1.93335832e-011],\n",
       "       [2.92779216e-002],\n",
       "       [2.29532124e-002],\n",
       "       [5.15927253e-002],\n",
       "       [4.06718795e-005],\n",
       "       [1.72971818e-093],\n",
       "       [3.37898370e-019],\n",
       "       [1.58226256e-005],\n",
       "       [1.01529453e-034],\n",
       "       [2.45511250e-013],\n",
       "       [1.16984248e-001],\n",
       "       [4.29955057e-003],\n",
       "       [9.34192891e-084],\n",
       "       [2.04481764e-023],\n",
       "       [2.38181593e-024],\n",
       "       [7.52314399e-039],\n",
       "       [6.26324098e-010],\n",
       "       [6.44442916e-010],\n",
       "       [2.62205253e-035],\n",
       "       [9.99416228e-001],\n",
       "       [2.34026835e-002],\n",
       "       [9.13864990e-002],\n",
       "       [1.10124883e-005],\n",
       "       [3.12091316e-009],\n",
       "       [5.54099309e-002],\n",
       "       [1.71918131e-015],\n",
       "       [6.47789350e-017],\n",
       "       [1.68271790e-002],\n",
       "       [2.51211726e-041],\n",
       "       [2.38181593e-024],\n",
       "       [1.61149697e-002],\n",
       "       [1.63008197e-004],\n",
       "       [7.60000030e-007],\n",
       "       [3.17860044e-007],\n",
       "       [5.77213307e-012],\n",
       "       [1.34674585e-008]])"
      ]
     },
     "execution_count": 202,
     "metadata": {},
     "output_type": "execute_result"
    }
   ],
   "source": [
    "pred_test"
   ]
  },
  {
   "cell_type": "code",
   "execution_count": 96,
   "id": "6fa4798a",
   "metadata": {},
   "outputs": [
    {
     "name": "stdout",
     "output_type": "stream",
     "text": [
      "Optimization terminated successfully.\n",
      "         Current function value: 0.080347\n",
      "         Iterations 10\n"
     ]
    },
    {
     "data": {
      "text/html": [
       "<table class=\"simpletable\">\n",
       "<caption>Logit Regression Results</caption>\n",
       "<tr>\n",
       "  <th>Dep. Variable:</th>        <td>Статус</td>      <th>  No. Observations:  </th>  <td>   132</td> \n",
       "</tr>\n",
       "<tr>\n",
       "  <th>Model:</th>                 <td>Logit</td>      <th>  Df Residuals:      </th>  <td>   125</td> \n",
       "</tr>\n",
       "<tr>\n",
       "  <th>Method:</th>                 <td>MLE</td>       <th>  Df Model:          </th>  <td>     6</td> \n",
       "</tr>\n",
       "<tr>\n",
       "  <th>Date:</th>            <td>Sat, 11 Mar 2023</td> <th>  Pseudo R-squ.:     </th>  <td>0.2593</td> \n",
       "</tr>\n",
       "<tr>\n",
       "  <th>Time:</th>                <td>23:26:12</td>     <th>  Log-Likelihood:    </th> <td> -10.606</td>\n",
       "</tr>\n",
       "<tr>\n",
       "  <th>converged:</th>             <td>True</td>       <th>  LL-Null:           </th> <td> -14.318</td>\n",
       "</tr>\n",
       "<tr>\n",
       "  <th>Covariance Type:</th>     <td>nonrobust</td>    <th>  LLR p-value:       </th>  <td>0.2833</td> \n",
       "</tr>\n",
       "</table>\n",
       "<table class=\"simpletable\">\n",
       "<tr>\n",
       "                                     <td></td>                                       <th>coef</th>     <th>std err</th>      <th>z</th>      <th>P>|z|</th>  <th>[0.025</th>    <th>0.975]</th>  \n",
       "</tr>\n",
       "<tr>\n",
       "  <th>const</th>                                                                  <td>   -2.4383</td> <td>    1.508</td> <td>   -1.617</td> <td> 0.106</td> <td>   -5.395</td> <td>    0.518</td>\n",
       "</tr>\n",
       "<tr>\n",
       "  <th>2018, Рентабельность капитала (ROE), %</th>                                 <td>   -0.0054</td> <td>    0.155</td> <td>   -0.035</td> <td> 0.972</td> <td>   -0.310</td> <td>    0.299</td>\n",
       "</tr>\n",
       "<tr>\n",
       "  <th>2018, Рентабельность активов (ROA), %</th>                                  <td>  -19.8310</td> <td>   10.467</td> <td>   -1.895</td> <td> 0.058</td> <td>  -40.345</td> <td>    0.683</td>\n",
       "</tr>\n",
       "<tr>\n",
       "  <th>2018, Коэффициент обеспеченности собственными оборотными средствами, %</th> <td>    0.3982</td> <td>    0.259</td> <td>    1.539</td> <td> 0.124</td> <td>   -0.109</td> <td>    0.905</td>\n",
       "</tr>\n",
       "<tr>\n",
       "  <th>2018, Коэффициент абсолютной ликвидности, %</th>                            <td>    0.0079</td> <td>    0.020</td> <td>    0.395</td> <td> 0.693</td> <td>   -0.031</td> <td>    0.047</td>\n",
       "</tr>\n",
       "<tr>\n",
       "  <th>2018, Коэффициент оборачиваемости совокупных активов, %</th>                <td>   -2.1734</td> <td>    3.738</td> <td>   -0.581</td> <td> 0.561</td> <td>   -9.500</td> <td>    5.153</td>\n",
       "</tr>\n",
       "<tr>\n",
       "  <th>Отрасль</th>                                                                <td>   -1.3330</td> <td>    1.474</td> <td>   -0.904</td> <td> 0.366</td> <td>   -4.222</td> <td>    1.556</td>\n",
       "</tr>\n",
       "</table>"
      ],
      "text/plain": [
       "<class 'statsmodels.iolib.summary.Summary'>\n",
       "\"\"\"\n",
       "                           Logit Regression Results                           \n",
       "==============================================================================\n",
       "Dep. Variable:                 Статус   No. Observations:                  132\n",
       "Model:                          Logit   Df Residuals:                      125\n",
       "Method:                           MLE   Df Model:                            6\n",
       "Date:                Sat, 11 Mar 2023   Pseudo R-squ.:                  0.2593\n",
       "Time:                        23:26:12   Log-Likelihood:                -10.606\n",
       "converged:                       True   LL-Null:                       -14.318\n",
       "Covariance Type:            nonrobust   LLR p-value:                    0.2833\n",
       "==========================================================================================================================================\n",
       "                                                                             coef    std err          z      P>|z|      [0.025      0.975]\n",
       "------------------------------------------------------------------------------------------------------------------------------------------\n",
       "const                                                                     -2.4383      1.508     -1.617      0.106      -5.395       0.518\n",
       "2018, Рентабельность капитала (ROE), %                                    -0.0054      0.155     -0.035      0.972      -0.310       0.299\n",
       "2018, Рентабельность активов (ROA), %                                    -19.8310     10.467     -1.895      0.058     -40.345       0.683\n",
       "2018, Коэффициент обеспеченности собственными оборотными средствами, %     0.3982      0.259      1.539      0.124      -0.109       0.905\n",
       "2018, Коэффициент абсолютной ликвидности, %                                0.0079      0.020      0.395      0.693      -0.031       0.047\n",
       "2018, Коэффициент оборачиваемости совокупных активов, %                   -2.1734      3.738     -0.581      0.561      -9.500       5.153\n",
       "Отрасль                                                                   -1.3330      1.474     -0.904      0.366      -4.222       1.556\n",
       "==========================================================================================================================================\n",
       "\"\"\""
      ]
     },
     "execution_count": 96,
     "metadata": {},
     "output_type": "execute_result"
    }
   ],
   "source": [
    "X_train, X_test, Y_train, Y_test = train_test_split(df_2018.drop(['Статус','2018, Коэффициент текущей ликвидности, %' ], axis= 1),df_2018['Статус'], test_size=0.3, random_state=0)\n",
    "X = sm.tools.tools.add_constant(X_train)\n",
    "model = Logit(Y_train, X.astype(float))\n",
    "logit_model = model.fit()\n",
    "logit_model.summary()"
   ]
  },
  {
   "cell_type": "code",
   "execution_count": 109,
   "id": "7c2ebb49",
   "metadata": {},
   "outputs": [
    {
     "data": {
      "text/plain": [
       "LogisticRegression()"
      ]
     },
     "execution_count": 109,
     "metadata": {},
     "output_type": "execute_result"
    }
   ],
   "source": [
    "from sklearn.linear_model import LogisticRegression\n",
    "from sklearn import metrics\n",
    "X_train, X_test, y_train, y_test = train_test_split(df_2020.drop(['Статус'], axis= 1), df_2020['Статус'], test_size=0.3, random_state=0)\n",
    "logreg = LogisticRegression()\n",
    "logreg.fit(X_train, y_train)"
   ]
  },
  {
   "cell_type": "code",
   "execution_count": 110,
   "id": "a6a38f5d",
   "metadata": {},
   "outputs": [
    {
     "name": "stdout",
     "output_type": "stream",
     "text": [
      "Accuracy of logistic regression classifier on test set: 0.96\n"
     ]
    }
   ],
   "source": [
    "y_pred = logreg.predict(X_test)\n",
    "print('Accuracy of logistic regression classifier on test set: {:.2f}'.format(logreg.score(X_test, y_test)))"
   ]
  },
  {
   "cell_type": "code",
   "execution_count": 111,
   "id": "1cd59a22",
   "metadata": {},
   "outputs": [
    {
     "name": "stdout",
     "output_type": "stream",
     "text": [
      "[[55  0]\n",
      " [ 2  0]]\n"
     ]
    }
   ],
   "source": [
    "from sklearn.metrics import confusion_matrix\n",
    "confusion_matrix = confusion_matrix(y_test, y_pred)\n",
    "print(confusion_matrix)"
   ]
  },
  {
   "cell_type": "code",
   "execution_count": 112,
   "id": "afd378bd",
   "metadata": {},
   "outputs": [
    {
     "name": "stdout",
     "output_type": "stream",
     "text": [
      "              precision    recall  f1-score   support\n",
      "\n",
      "         0.0       0.96      1.00      0.98        55\n",
      "         1.0       0.00      0.00      0.00         2\n",
      "\n",
      "    accuracy                           0.96        57\n",
      "   macro avg       0.48      0.50      0.49        57\n",
      "weighted avg       0.93      0.96      0.95        57\n",
      "\n"
     ]
    },
    {
     "name": "stderr",
     "output_type": "stream",
     "text": [
      "C:\\Users\\user\\anaconda3\\lib\\site-packages\\sklearn\\metrics\\_classification.py:1318: UndefinedMetricWarning: Precision and F-score are ill-defined and being set to 0.0 in labels with no predicted samples. Use `zero_division` parameter to control this behavior.\n",
      "  _warn_prf(average, modifier, msg_start, len(result))\n",
      "C:\\Users\\user\\anaconda3\\lib\\site-packages\\sklearn\\metrics\\_classification.py:1318: UndefinedMetricWarning: Precision and F-score are ill-defined and being set to 0.0 in labels with no predicted samples. Use `zero_division` parameter to control this behavior.\n",
      "  _warn_prf(average, modifier, msg_start, len(result))\n",
      "C:\\Users\\user\\anaconda3\\lib\\site-packages\\sklearn\\metrics\\_classification.py:1318: UndefinedMetricWarning: Precision and F-score are ill-defined and being set to 0.0 in labels with no predicted samples. Use `zero_division` parameter to control this behavior.\n",
      "  _warn_prf(average, modifier, msg_start, len(result))\n"
     ]
    }
   ],
   "source": [
    "from sklearn.metrics import classification_report\n",
    "print(classification_report(y_test, y_pred))"
   ]
  },
  {
   "cell_type": "code",
   "execution_count": 113,
   "id": "8831da48",
   "metadata": {},
   "outputs": [
    {
     "data": {
      "image/png": "[encoded data removed]",
      "text/plain": [
       "<Figure size 432x288 with 1 Axes>"
      ]
     },
     "metadata": {
      "needs_background": "light"
     },
     "output_type": "display_data"
    }
   ],
   "source": [
    "from sklearn.metrics import roc_auc_score\n",
    "from sklearn.metrics import roc_curve\n",
    "logit_roc_auc = roc_auc_score(y_test, logreg.predict(X_test))\n",
    "fpr, tpr, thresholds = roc_curve(y_test, logreg.predict_proba(X_test)[:,1])\n",
    "plt.figure()\n",
    "plt.plot(fpr, tpr, label='Logistic Regression (area = %0.2f)' % logit_roc_auc)\n",
    "plt.plot([0, 1], [0, 1],'r--')\n",
    "plt.xlim([0.0, 1.0])\n",
    "plt.ylim([0.0, 1.05])\n",
    "plt.xlabel('False Positive Rate')\n",
    "plt.ylabel('True Positive Rate')\n",
    "plt.title('Receiver operating characteristic')\n",
    "plt.legend(loc=\"lower right\")\n",
    "plt.savefig('Log_ROC')\n",
    "plt.show()"
   ]
  }
 ],
 "metadata": {
  "kernelspec": {
   "display_name": "Python 3 (ipykernel)",
   "language": "python",
   "name": "python3"
  },
  "language_info": {
   "codemirror_mode": {
    "name": "ipython",
    "version": 3
   },
   "file_extension": ".py",
   "mimetype": "text/x-python",
   "name": "python",
   "nbconvert_exporter": "python",
   "pygments_lexer": "ipython3",
   "version": "3.9.12"
  }
 },
 "nbformat": 4,
 "nbformat_minor": 5
}
